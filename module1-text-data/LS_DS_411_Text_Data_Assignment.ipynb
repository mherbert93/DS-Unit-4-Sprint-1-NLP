{
 "cells": [
  {
   "cell_type": "markdown",
   "metadata": {},
   "source": [
    "<img align=\"left\" src=\"https://lever-client-logos.s3.amazonaws.com/864372b1-534c-480e-acd5-9711f850815c-1524247202159.png\" width=200>\n",
    "<br></br>\n",
    "<br></br>\n",
    "\n",
    "# Natural Language Processing (NLP)\n",
    "## *Data Science Unit 4 Sprint 1 Assignment 1*\n",
    "\n",
    "Your goal in this assignment: find the attributes of the best & worst coffee shops in the dataset. The text is fairly raw: dates in the review, extra words in the `star_rating` column, etc. You'll probably want to clean that stuff up for a better analysis. \n",
    "\n",
    "Analyze the corpus of text using text visualizations of token frequency. Try cleaning the data as much as possible. Try the following techniques: \n",
    "- Lemmatization\n",
    "- Custom stopword removal\n",
    "\n",
    "Keep in mind the attributes of good tokens. Once you have a solid baseline, layer in the star rating in your visualization(s). Key part of this assignment - produce a write-up of the attributes of the best and worst coffee shops. Based on your analysis, what makes the best the best and the worst the worst. Use graphs and numbesr from your analysis to support your conclusions. There should be plenty of markdown cells! :coffee:"
   ]
  },
  {
   "cell_type": "code",
   "execution_count": 1,
   "metadata": {},
   "outputs": [
    {
     "data": {
      "text/plain": "<IPython.lib.display.YouTubeVideo at 0x1a4f846c688>",
      "text/html": "\n        <iframe\n            width=\"400\"\n            height=\"300\"\n            src=\"https://www.youtube.com/embed/Jml7NVYm8cs\"\n            frameborder=\"0\"\n            allowfullscreen\n        ></iframe>\n        ",
      "image/jpeg": "[encoded data removed]"
     },
     "execution_count": 1,
     "metadata": {},
     "output_type": "execute_result"
    }
   ],
   "source": [
    "from IPython.display import YouTubeVideo\n",
    "\n",
    "YouTubeVideo('Jml7NVYm8cs')"
   ]
  },
  {
   "cell_type": "code",
   "execution_count": 2,
   "metadata": {},
   "outputs": [
    {
     "data": {
      "text/plain": "'C:\\\\Users\\\\User\\\\PycharmProjects\\\\Lambda_Unit4\\\\DS-Unit-4-Sprint-1-NLP\\\\module1-text-data'"
     },
     "execution_count": 2,
     "metadata": {},
     "output_type": "execute_result"
    }
   ],
   "source": [
    "%pwd"
   ]
  },
  {
   "cell_type": "code",
   "execution_count": 3,
   "metadata": {},
   "outputs": [
    {
     "data": {
      "text/plain": "                  coffee_shop_name  \\\n0  The Factory - Cafe With a Soul    \n1  The Factory - Cafe With a Soul    \n2  The Factory - Cafe With a Soul    \n3  The Factory - Cafe With a Soul    \n4  The Factory - Cafe With a Soul    \n\n                                    full_review_text        star_rating  \n0   11/25/2016 1 check-in Love love loved the atm...   5.0 star rating   \n1   12/2/2016 Listed in Date Night: Austin, Ambia...   4.0 star rating   \n2   11/30/2016 1 check-in Listed in Brunch Spots ...   4.0 star rating   \n3   11/25/2016 Very cool decor! Good drinks Nice ...   2.0 star rating   \n4   12/3/2016 1 check-in They are located within ...   4.0 star rating   ",
      "text/html": "<div>\n<style scoped>\n    .dataframe tbody tr th:only-of-type {\n        vertical-align: middle;\n    }\n\n    .dataframe tbody tr th {\n        vertical-align: top;\n    }\n\n    .dataframe thead th {\n        text-align: right;\n    }\n</style>\n<table border=\"1\" class=\"dataframe\">\n  <thead>\n    <tr style=\"text-align: right;\">\n      <th></th>\n      <th>coffee_shop_name</th>\n      <th>full_review_text</th>\n      <th>star_rating</th>\n    </tr>\n  </thead>\n  <tbody>\n    <tr>\n      <th>0</th>\n      <td>The Factory - Cafe With a Soul</td>\n      <td>11/25/2016 1 check-in Love love loved the atm...</td>\n      <td>5.0 star rating</td>\n    </tr>\n    <tr>\n      <th>1</th>\n      <td>The Factory - Cafe With a Soul</td>\n      <td>12/2/2016 Listed in Date Night: Austin, Ambia...</td>\n      <td>4.0 star rating</td>\n    </tr>\n    <tr>\n      <th>2</th>\n      <td>The Factory - Cafe With a Soul</td>\n      <td>11/30/2016 1 check-in Listed in Brunch Spots ...</td>\n      <td>4.0 star rating</td>\n    </tr>\n    <tr>\n      <th>3</th>\n      <td>The Factory - Cafe With a Soul</td>\n      <td>11/25/2016 Very cool decor! Good drinks Nice ...</td>\n      <td>2.0 star rating</td>\n    </tr>\n    <tr>\n      <th>4</th>\n      <td>The Factory - Cafe With a Soul</td>\n      <td>12/3/2016 1 check-in They are located within ...</td>\n      <td>4.0 star rating</td>\n    </tr>\n  </tbody>\n</table>\n</div>"
     },
     "execution_count": 3,
     "metadata": {},
     "output_type": "execute_result"
    }
   ],
   "source": [
    "import pandas as pd\n",
    "\n",
    "url = \"https://raw.githubusercontent.com/LambdaSchool/DS-Unit-4-Sprint-1-NLP/master/module1-text-data/data/yelp_coffeeshop_review_data.csv\"\n",
    "\n",
    "shops = pd.read_csv(url)\n",
    "shops.head()"
   ]
  },
  {
   "cell_type": "code",
   "execution_count": 4,
   "metadata": {},
   "outputs": [],
   "source": [
    "# Start here "
   ]
  },
  {
   "cell_type": "markdown",
   "metadata": {},
   "source": [
    "## How do we want to analyze these coffee shop tokens? \n",
    "\n",
    "- Overall Word / Token Count\n",
    "- View Counts by Rating \n",
    "- *Hint:* a 'bad' coffee shops has a rating betweeen 1 & 3 based on the distribution of ratings. A 'good' coffee shop is a 4 or 5. "
   ]
  },
  {
   "cell_type": "code",
   "execution_count": 5,
   "metadata": {},
   "outputs": [],
   "source": [
    "# Base\n",
    "from collections import Counter\n",
    "\n",
    "import pandas as pd\n",
    "\n",
    "# Plotting\n",
    "import squarify\n",
    "import matplotlib.pyplot as plt\n",
    "import seaborn as sns\n",
    "\n",
    "# NLP Libraries\n",
    "import spacy\n",
    "from spacy.tokenizer import Tokenizer\n",
    "\n",
    "nlp = spacy.load(\"en_core_web_lg\")\n",
    "tokenizer = Tokenizer(nlp.vocab)"
   ]
  },
  {
   "cell_type": "code",
   "execution_count": 6,
   "outputs": [],
   "source": [
    "# Define all of our functions in this cell for readability\n",
    "def count(docs):\n",
    "\n",
    "        word_counts = Counter()\n",
    "        appears_in = Counter()\n",
    "\n",
    "        total_docs = len(docs)\n",
    "\n",
    "        for doc in docs:\n",
    "            word_counts.update(doc)\n",
    "            appears_in.update(set(doc))\n",
    "\n",
    "        temp = zip(word_counts.keys(), word_counts.values())\n",
    "\n",
    "        wc = pd.DataFrame(temp, columns = ['word', 'count'])\n",
    "\n",
    "        wc['rank'] = wc['count'].rank(method='first', ascending=False)\n",
    "        total = wc['count'].sum()\n",
    "\n",
    "        wc['pct_total'] = wc['count'].apply(lambda x: x / total)\n",
    "\n",
    "        wc = wc.sort_values(by='rank')\n",
    "        wc['cul_pct_total'] = wc['pct_total'].cumsum()\n",
    "\n",
    "        t2 = zip(appears_in.keys(), appears_in.values())\n",
    "        ac = pd.DataFrame(t2, columns=['word', 'appears_in'])\n",
    "        wc = ac.merge(wc, on='word')\n",
    "\n",
    "        wc['appears_in_pct'] = wc['appears_in'].apply(lambda x: x / total_docs)\n",
    "\n",
    "        return wc.sort_values(by='rank')\n",
    "\n",
    "def get_lemmas(text):\n",
    "\n",
    "    lemmas = []\n",
    "    STOP_WORDS = nlp.Defaults.stop_words.union(['check', 'coffee', 'place', ]) # repeating words in both bad and good reviews\n",
    "\n",
    "    doc = nlp(text)\n",
    "\n",
    "    for token in doc[2:]: # ignore first two elements containing blank space and date\n",
    "        if ((token.is_stop == False) and (token.is_punct == False)) and (token.pos_ != 'PRON') \\\n",
    "                and (token.is_space == False) and (token.is_digit == False) and (token.text.lower() not in STOP_WORDS):\n",
    "            lemmas.append(token.lemma_.lower())\n",
    "\n",
    "    return lemmas\n"
   ],
   "metadata": {
    "collapsed": false,
    "pycharm": {
     "name": "#%%\n"
    }
   }
  },
  {
   "cell_type": "code",
   "execution_count": 7,
   "outputs": [
    {
     "data": {
      "text/plain": "(7616, 3)"
     },
     "execution_count": 7,
     "metadata": {},
     "output_type": "execute_result"
    }
   ],
   "source": [
    "shops.shape"
   ],
   "metadata": {
    "collapsed": false,
    "pycharm": {
     "name": "#%%\n"
    }
   }
  },
  {
   "cell_type": "code",
   "execution_count": 8,
   "outputs": [],
   "source": [
    "shops['star_rating'] = shops['star_rating'].str[:4] # return only numeric portion of star_rating\n",
    "shops['star_rating'] = shops['star_rating'].astype(float)"
   ],
   "metadata": {
    "collapsed": false,
    "pycharm": {
     "name": "#%%\n"
    }
   }
  },
  {
   "cell_type": "code",
   "execution_count": 9,
   "outputs": [
    {
     "data": {
      "text/plain": "                  coffee_shop_name  \\\n0  The Factory - Cafe With a Soul    \n1  The Factory - Cafe With a Soul    \n2  The Factory - Cafe With a Soul    \n3  The Factory - Cafe With a Soul    \n4  The Factory - Cafe With a Soul    \n\n                                    full_review_text  star_rating  \n0   11/25/2016 1 check-in Love love loved the atm...          5.0  \n1   12/2/2016 Listed in Date Night: Austin, Ambia...          4.0  \n2   11/30/2016 1 check-in Listed in Brunch Spots ...          4.0  \n3   11/25/2016 Very cool decor! Good drinks Nice ...          2.0  \n4   12/3/2016 1 check-in They are located within ...          4.0  ",
      "text/html": "<div>\n<style scoped>\n    .dataframe tbody tr th:only-of-type {\n        vertical-align: middle;\n    }\n\n    .dataframe tbody tr th {\n        vertical-align: top;\n    }\n\n    .dataframe thead th {\n        text-align: right;\n    }\n</style>\n<table border=\"1\" class=\"dataframe\">\n  <thead>\n    <tr style=\"text-align: right;\">\n      <th></th>\n      <th>coffee_shop_name</th>\n      <th>full_review_text</th>\n      <th>star_rating</th>\n    </tr>\n  </thead>\n  <tbody>\n    <tr>\n      <th>0</th>\n      <td>The Factory - Cafe With a Soul</td>\n      <td>11/25/2016 1 check-in Love love loved the atm...</td>\n      <td>5.0</td>\n    </tr>\n    <tr>\n      <th>1</th>\n      <td>The Factory - Cafe With a Soul</td>\n      <td>12/2/2016 Listed in Date Night: Austin, Ambia...</td>\n      <td>4.0</td>\n    </tr>\n    <tr>\n      <th>2</th>\n      <td>The Factory - Cafe With a Soul</td>\n      <td>11/30/2016 1 check-in Listed in Brunch Spots ...</td>\n      <td>4.0</td>\n    </tr>\n    <tr>\n      <th>3</th>\n      <td>The Factory - Cafe With a Soul</td>\n      <td>11/25/2016 Very cool decor! Good drinks Nice ...</td>\n      <td>2.0</td>\n    </tr>\n    <tr>\n      <th>4</th>\n      <td>The Factory - Cafe With a Soul</td>\n      <td>12/3/2016 1 check-in They are located within ...</td>\n      <td>4.0</td>\n    </tr>\n  </tbody>\n</table>\n</div>"
     },
     "execution_count": 9,
     "metadata": {},
     "output_type": "execute_result"
    }
   ],
   "source": [
    "shops.head(5)"
   ],
   "metadata": {
    "collapsed": false,
    "pycharm": {
     "name": "#%%\n"
    }
   }
  },
  {
   "cell_type": "code",
   "execution_count": 12,
   "outputs": [],
   "source": [
    "shops['lemmas'] = shops['full_review_text'].apply(get_lemmas)"
   ],
   "metadata": {
    "collapsed": false,
    "pycharm": {
     "name": "#%%\n"
    }
   }
  },
  {
   "cell_type": "code",
   "execution_count": 13,
   "outputs": [
    {
     "data": {
      "text/plain": "['love',\n 'love',\n 'love',\n 'atmosphere',\n 'corner',\n 'shop',\n 'style',\n 'swing',\n 'order',\n 'matcha',\n 'latte',\n 'muy',\n 'fantastico',\n 'order',\n 'get',\n 'drink',\n 'pretty',\n 'streamlined',\n 'order',\n 'ipad',\n 'include',\n 'beverage',\n 'selection',\n 'range',\n 'wine',\n 'desire',\n 'level',\n 'sweetness',\n 'checkout',\n 'system',\n 'get',\n 'latte',\n 'minute',\n 'hope',\n 'typical',\n 'heart',\n 'feather',\n 'latte',\n 'find',\n 'list',\n 'possibility',\n 'art',\n 'idea']"
     },
     "execution_count": 13,
     "metadata": {},
     "output_type": "execute_result"
    }
   ],
   "source": [
    "shops['lemmas'][0]"
   ],
   "metadata": {
    "collapsed": false,
    "pycharm": {
     "name": "#%%\n"
    }
   }
  },
  {
   "cell_type": "code",
   "execution_count": 14,
   "outputs": [],
   "source": [
    "wc_bad = count(shops[shops['star_rating'] <= 3].lemmas)\n",
    "wc_good = count(shops[shops['star_rating'] >= 4].lemmas)"
   ],
   "metadata": {
    "collapsed": false,
    "pycharm": {
     "name": "#%%\n"
    }
   }
  },
  {
   "cell_type": "code",
   "execution_count": 15,
   "outputs": [
    {
     "name": "stdout",
     "output_type": "stream",
     "text": [
      "       word  appears_in  count  rank  pct_total  cul_pct_total  appears_in_pct\n",
      "193    good        2933   4359   1.0   0.016656       0.016656        0.477687\n",
      "78    great        2511   3487   2.0   0.013324       0.029981        0.408958\n",
      "175    like        1677   2434   3.0   0.009301       0.039281        0.273127\n",
      "30     love        1610   2132   4.0   0.008147       0.047428        0.262215\n",
      "36   austin        1586   2043   5.0   0.007807       0.055234        0.258306\n",
      "353    come        1480   1988   6.0   0.007596       0.062831        0.241042\n",
      "31     shop        1329   1778   7.0   0.006794       0.069625        0.216450\n",
      "368    time        1344   1778   8.0   0.006794       0.076419        0.218893\n",
      "32    drink        1277   1734   9.0   0.006626       0.083045        0.207980\n",
      "116     try        1332   1712  10.0   0.006542       0.089586        0.216938\n",
      "-------------------------------------------------------------------------------\n",
      "        word  appears_in  count  rank  pct_total  cul_pct_total  \\\n",
      "32      good         648   1004   1.0   0.013641       0.013641   \n",
      "13      like         596    945   2.0   0.012840       0.026481   \n",
      "127    order         430    759   3.0   0.010313       0.036793   \n",
      "104     come         452    650   4.0   0.008832       0.045625   \n",
      "194     time         425    617   5.0   0.008383       0.054008   \n",
      "33     drink         364    610   6.0   0.008288       0.062296   \n",
      "106     food         324    507   7.0   0.006889       0.069185   \n",
      "78     great         348    472   8.0   0.006413       0.075598   \n",
      "8    service         347    450   9.0   0.006114       0.081712   \n",
      "51        go         338    450  10.0   0.006114       0.087826   \n",
      "\n",
      "     appears_in_pct  \n",
      "32         0.439024  \n",
      "13         0.403794  \n",
      "127        0.291328  \n",
      "104        0.306233  \n",
      "194        0.287940  \n",
      "33         0.246612  \n",
      "106        0.219512  \n",
      "78         0.235772  \n",
      "8          0.235095  \n",
      "51         0.228997  \n"
     ]
    }
   ],
   "source": [
    "print(wc_good.head(10))\n",
    "print(\"-------------------------------------------------------------------------------\")\n",
    "print(wc_bad.head(10))"
   ],
   "metadata": {
    "collapsed": false,
    "pycharm": {
     "name": "#%%\n"
    }
   }
  },
  {
   "cell_type": "code",
   "execution_count": 32,
   "outputs": [],
   "source": [
    "combined_wc = pd.merge(wc_good, wc_bad, how='inner', on='word')\n",
    "combined_wc['diff_cul_pct'] = abs(combined_wc['cul_pct_total_x'] - combined_wc['cul_pct_total_y']) # find the difference in rel freq"
   ],
   "metadata": {
    "collapsed": false,
    "pycharm": {
     "name": "#%%\n"
    }
   }
  },
  {
   "cell_type": "code",
   "execution_count": 41,
   "outputs": [],
   "source": [
    "combined_wc.sort_values(by=['diff_cul_pct'], ascending=False, inplace=True)"
   ],
   "metadata": {
    "collapsed": false,
    "pycharm": {
     "name": "#%%\n"
    }
   }
  },
  {
   "cell_type": "markdown",
   "metadata": {},
   "source": [
    "## Can visualize the words with the greatest difference in counts between 'good' & 'bad'?\n",
    "\n",
    "Couple Notes: \n",
    "- Rel. freq. instead of absolute counts b/c of different numbers of reviews\n",
    "- Only look at the top 5-10 words with the greatest differences\n"
   ]
  },
  {
   "cell_type": "code",
   "execution_count": 42,
   "metadata": {},
   "outputs": [
    {
     "data": {
      "text/plain": "<Figure size 432x288 with 1 Axes>",
      "image/png": "[encoded data removed]"
     },
     "metadata": {
      "needs_background": "light"
     },
     "output_type": "display_data"
    }
   ],
   "source": [
    "wc_top10 = combined_wc.head(10) # dataframe is already sorted, return top 10 words with largest pct diff\n",
    "\n",
    "squarify.plot(sizes=wc_top10['diff_cul_pct'], label=wc_top10['word'], alpha=.8)\n",
    "plt.axis('off')\n",
    "plt.show()"
   ]
  },
  {
   "cell_type": "markdown",
   "source": [
    "## Analysis\n",
    "\n",
    "* The word that has the greatest difference between good and bad reviews is \"rude\". This makes a lot of sense. Customers who\n",
    "experience bad service are likely to leave a negative review.\n",
    "\n",
    "* \"Moon\" is interesting. I am not quite sure why there is such a difference, or even if it is relevant. However I cannot\n",
    "say for certainty that it is irrelevant without more domain knowledge/investigation.\n",
    "\n",
    "* \"Meh\" would could be relating to food or service.\n",
    "\n",
    "* \"Perfect\" would be associated with positive reviews. A user who leaves a negative review would most likely not be using\n",
    "a word like \"perfect\".\n",
    "\n",
    "* \"Disappointed\" is another negative word that could be related to the food or the service.\n",
    "\n",
    "* For the rest of the words, the same pattern applies. Words that have a positive meaning would likely be used in positive\n",
    "reviews. On the flip side, words with negative meaning would typically be used in a negative review. It makes sense why\n",
    "these words are so different in good and bad reviews.\n",
    "\n",
    "* Also interesting to note is that \"Good\" had a high percentage in both good and bad reviews and does not show up in our\n",
    "plot. This is interesting because at first glance you would assume the word good would be associated mostly with positive\n",
    "reviews."
   ],
   "metadata": {
    "collapsed": false,
    "pycharm": {
     "name": "#%% md\n"
    }
   }
  },
  {
   "cell_type": "markdown",
   "metadata": {
    "colab_type": "text",
    "id": "1dCb1q8XphcP",
    "toc-hr-collapsed": true
   },
   "source": [
    "## Stretch Goals\n",
    "\n",
    "* Analyze another corpus of documents - such as Indeed.com job listings ;).\n",
    "* Play with the Spacy API to\n",
    " - Extract Named Entities\n",
    " - Extracting 'noun chunks'\n",
    " - Attempt Document Classification with just Spacy\n",
    " - *Note:* This [course](https://course.spacy.io/) will be of interesting in helping you with these stretch goals. \n",
    "* Try to build a plotly dash app with your text data \n",
    "\n"
   ]
  }
 ],
 "metadata": {
  "colab": {
   "collapsed_sections": [],
   "name": "LS_DS_421_Text_Data_Assignment.ipynb",
   "provenance": [],
   "version": "0.3.2"
  },
  "kernelspec": {
   "display_name": "U4-S1-NLP (Python 3)",
   "language": "python",
   "name": "u4-s1-nlp"
  },
  "language_info": {
   "codemirror_mode": {
    "name": "ipython",
    "version": 3
   },
   "file_extension": ".py",
   "mimetype": "text/x-python",
   "name": "python",
   "nbconvert_exporter": "python",
   "pygments_lexer": "ipython3",
   "version": "3.7.3"
  },
  "toc-autonumbering": false
 },
 "nbformat": 4,
 "nbformat_minor": 4
}