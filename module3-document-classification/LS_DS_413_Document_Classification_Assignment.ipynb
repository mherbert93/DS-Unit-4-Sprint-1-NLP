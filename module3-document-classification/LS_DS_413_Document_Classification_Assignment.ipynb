{
 "cells": [
  {
   "cell_type": "markdown",
   "metadata": {},
   "source": [
    "Lambda School Data Science\n",
    "\n",
    "*Unit 4, Sprint 1, Module 3*\n",
    "\n",
    "---"
   ]
  },
  {
   "cell_type": "markdown",
   "metadata": {},
   "source": [
    "# Document Classification (Assignment)\n",
    "\n",
    "This notebook is for you to practice skills during lecture.\n",
    "\n",
    "Today's guided module project and assignment will be different. You already know how to do classification. You ready know how to extract features from documents. So? That means you're ready to combine and practice those skills in a kaggle competition. We we will open with a five minute sprint explaining the competition, and then give you 25 minutes to work. After those twenty five minutes are up, I will give a 5-minute demo an NLP technique that will help you with document classification (*and **maybe** the competition*).\n",
    "\n",
    "Today's all about having fun and practicing your skills.\n",
    "\n",
    "## Sections\n",
    "* <a href=\"#p1\">Part 1</a>: Text Feature Extraction & Classification Pipelines\n",
    "* <a href=\"#p2\">Part 2</a>: Latent Semantic Indexing\n",
    "* <a href=\"#p3\">Part 3</a>: Word Embeddings with Spacy\n",
    "* <a href=\"#p4\">Part 4</a>: Post Lecture Assignment"
   ]
  },
  {
   "cell_type": "markdown",
   "metadata": {},
   "source": [
    "# Text Feature Extraction & Classification Pipelines (Learn)\n",
    "<a id=\"p1\"></a>"
   ]
  },
  {
   "cell_type": "markdown",
   "metadata": {
    "toc-hr-collapsed": true
   },
   "source": [
    "## Follow Along \n",
    "\n",
    "What you should be doing now:\n",
    "1. Join the Kaggle Competition\n",
    "2. Download the data\n",
    "3. Train a model (try using the pipe method I just demoed)"
   ]
  },
  {
   "cell_type": "markdown",
   "metadata": {},
   "source": [
    "### Load Competition Data"
   ]
  },
  {
   "cell_type": "code",
   "execution_count": 7,
   "metadata": {},
   "outputs": [],
   "source": [
    "import pandas as pd\n",
    "from sklearn.ensemble import RandomForestClassifier\n",
    "from sklearn.model_selection import GridSearchCV\n",
    "from sklearn.feature_extraction.text import TfidfVectorizer\n",
    "from sklearn.pipeline import Pipeline\n",
    "\n",
    "# You may need to change the path\n",
    "train = pd.read_csv('./data/train.csv')\n",
    "test = pd.read_csv('./data/test.csv')\n",
    "\n",
    "subNumber = 8"
   ]
  },
  {
   "cell_type": "code",
   "execution_count": 8,
   "metadata": {},
   "outputs": [
    {
     "data": {
      "text/plain": "     id                                        description  ratingCategory\n0  1321  \\nSometimes, when whisky is batched, a few lef...               1\n1  3861  \\nAn uncommon exclusive bottling of a 6 year o...               0\n2   655  \\nThis release is a port version of Amrut’s In...               1\n3   555  \\nThis 41 year old single cask was aged in a s...               1\n4  1965  \\nQuite herbal on the nose, with aromas of dri...               1",
      "text/html": "<div>\n<style scoped>\n    .dataframe tbody tr th:only-of-type {\n        vertical-align: middle;\n    }\n\n    .dataframe tbody tr th {\n        vertical-align: top;\n    }\n\n    .dataframe thead th {\n        text-align: right;\n    }\n</style>\n<table border=\"1\" class=\"dataframe\">\n  <thead>\n    <tr style=\"text-align: right;\">\n      <th></th>\n      <th>id</th>\n      <th>description</th>\n      <th>ratingCategory</th>\n    </tr>\n  </thead>\n  <tbody>\n    <tr>\n      <th>0</th>\n      <td>1321</td>\n      <td>\\nSometimes, when whisky is batched, a few lef...</td>\n      <td>1</td>\n    </tr>\n    <tr>\n      <th>1</th>\n      <td>3861</td>\n      <td>\\nAn uncommon exclusive bottling of a 6 year o...</td>\n      <td>0</td>\n    </tr>\n    <tr>\n      <th>2</th>\n      <td>655</td>\n      <td>\\nThis release is a port version of Amrut’s In...</td>\n      <td>1</td>\n    </tr>\n    <tr>\n      <th>3</th>\n      <td>555</td>\n      <td>\\nThis 41 year old single cask was aged in a s...</td>\n      <td>1</td>\n    </tr>\n    <tr>\n      <th>4</th>\n      <td>1965</td>\n      <td>\\nQuite herbal on the nose, with aromas of dri...</td>\n      <td>1</td>\n    </tr>\n  </tbody>\n</table>\n</div>"
     },
     "execution_count": 8,
     "metadata": {},
     "output_type": "execute_result"
    }
   ],
   "source": [
    "train.head()"
   ]
  },
  {
   "cell_type": "markdown",
   "metadata": {},
   "source": [
    "### Define Pipeline Components"
   ]
  },
  {
   "cell_type": "code",
   "execution_count": 118,
   "metadata": {},
   "outputs": [],
   "source": [
    "from xgboost import XGBClassifier\n",
    "\n",
    "randomforest_pipeline = Pipeline([('vect', TfidfVectorizer(stop_words='english', ngram_range=(1,4))),\n",
    "                 ('randomforest', RandomForestClassifier())])\n",
    "\n",
    "xgboost_pipeline = Pipeline([('vect', TfidfVectorizer(stop_words='english', ngram_range=(1,4))),\n",
    "                 ('model', XGBClassifier(seed=1337))])\n",
    "\n",
    "randomforest_pipeline_hardcoded = Pipeline([('vect', TfidfVectorizer(stop_words='english', ngram_range=(1,4),\n",
    "                                                                     max_df=1.0, min_df=.02, max_features=750)),\n",
    "                 ('randomforest', RandomForestClassifier(max_depth=20, n_estimators=100))])\n",
    "\n",
    "xgboost_pipeline_hardcoded = Pipeline([('vect', TfidfVectorizer(stop_words='english', ngram_range=(1,4), max_df=0.5,\n",
    "                                                                max_features=775, min_df=0.01)),\n",
    "                 ('model', XGBClassifier(seed=1337, colsample_bytree=0.28, gamma=2.75, learning_rate=0.22,\n",
    "                                         max_depth=60, min_child_leaf=7, min_child_weight=1, n_estimators=275,\n",
    "                                         scale_pos_weight=100, subsample=0.8))])"
   ]
  },
  {
   "cell_type": "markdown",
   "metadata": {},
   "source": [
    "### Define Your Search Space\n",
    "You're looking for both the best hyperparameters of your vectorizer and your classification model. "
   ]
  },
  {
   "cell_type": "code",
   "execution_count": 124,
   "metadata": {},
   "outputs": [
    {
     "name": "stdout",
     "output_type": "stream",
     "text": [
      "XGboost best score: 0.7369708832884757\n",
      "Iterations since improvement:  0\n",
      "Total iterations:  1\n",
      "--------------------------------------\n",
      "XGboost best score: 0.7369708832884757\n",
      "Iterations since improvement:  1\n",
      "Total iterations:  2\n",
      "--------------------------------------\n",
      "XGboost best score: 0.7418644482505505\n",
      "Iterations since improvement:  0\n",
      "Total iterations:  3\n",
      "--------------------------------------\n",
      "XGboost best score: 0.7418644482505505\n",
      "Iterations since improvement:  1\n",
      "Total iterations:  4\n",
      "--------------------------------------\n",
      "XGboost best score: 0.7418644482505505\n",
      "Iterations since improvement:  2\n",
      "Total iterations:  5\n",
      "--------------------------------------\n",
      "XGboost best score: 0.7418644482505505\n",
      "Iterations since improvement:  3\n",
      "Total iterations:  6\n",
      "--------------------------------------\n",
      "XGboost best score: 0.7418644482505505\n",
      "Iterations since improvement:  4\n",
      "Total iterations:  7\n",
      "--------------------------------------\n",
      "XGboost best score: 0.7418644482505505\n",
      "Iterations since improvement:  5\n",
      "Total iterations:  8\n",
      "--------------------------------------\n",
      "XGboost best score: 0.7418644482505505\n",
      "Iterations since improvement:  6\n",
      "Total iterations:  9\n",
      "Over 5 iterations with no improvement, aborting...\n",
      "[16:02:47] WARNING: C:\\Users\\Administrator\\workspace\\xgboost-win64_release_1.1.0\\src\\learner.cc:480: \n",
      "Parameters: { min_child_leaf, scale_pos_weight } might not be used.\n",
      "\n",
      "  This may not be accurate due to some parameters are only used in language bindings but\n",
      "  passed down to XGBoost core.  Or some parameters are not used but slip through this\n",
      "  verification. Please open an issue if you find above cases.\n",
      "\n",
      "\n"
     ]
    }
   ],
   "source": [
    "from skopt import BayesSearchCV\n",
    "import warnings\n",
    "warnings.filterwarnings('ignore') #ignore warnings generated by bayes search\n",
    "\n",
    "tune = True\n",
    "\n",
    "if tune:\n",
    "    parameters = {\n",
    "        'vect__max_df': ( 0.75, 1.0),\n",
    "        'vect__min_df': (.02, .03),\n",
    "        'vect__max_features': (700, 750, 800),\n",
    "        'randomforest__n_estimators':(100, 125, 150),\n",
    "        'randomforest__max_depth':(20, 25, 30)\n",
    "    }\n",
    "\n",
    "    xgboost_distributions = {\n",
    "        'vect__max_df': (0.5, 1.0),\n",
    "        'vect__min_df': (.01, .02, .03, .04, .05, .10),\n",
    "        'vect__max_features': (725, 750, 775),\n",
    "        'model__n_estimators': [250, 275, 300, 325, 350],\n",
    "        'model__max_depth': [50, 60, 70, 75, 80, 85, 95, 100],\n",
    "        'model__learning_rate': [0.22, 0.23, 0.24, 0.25, 0.26],\n",
    "        'model__min_child_leaf':[6, 7, 8],\n",
    "        'model__min_child_weight': [1, 2, 3, 5, 7, 9, 12, 15],\n",
    "        'model__colsample_bytree':[0.28, 0.30, 0.32],\n",
    "        'model__subsample':[0.8, 0.9, 1],\n",
    "        'model__gamma':[2.5, 2.75, 3, 3.25, 3.50],\n",
    "        'model__scale_pos_weight': [100, 110, 120, 130, 140, 150]\n",
    "     }\n",
    "\n",
    "    randomforest_pipeline = Pipeline([('vect', TfidfVectorizer(stop_words='english', ngram_range=(1,4))),\n",
    "                 ('randomforest', RandomForestClassifier())])\n",
    "\n",
    "    xgboost_pipeline = Pipeline([('vect', TfidfVectorizer(stop_words='english', ngram_range=(1,4))),\n",
    "                 ('model', XGBClassifier(seed=1337))])\n",
    "\n",
    "    def report_step_xgboost(optim_result):\n",
    "        global previous_score\n",
    "        global i\n",
    "        global total_i\n",
    "        score = xgboost_search.best_score_\n",
    "        print(\"XGboost best score: %s\" % score)\n",
    "        if score > previous_score:\n",
    "            i = 0\n",
    "        else:\n",
    "            i += 1\n",
    "        print(\"Iterations since improvement: \", i)\n",
    "        total_i += 1\n",
    "        print(\"Total iterations: \", total_i)\n",
    "        if i > 5:\n",
    "            print(\"Over 5 iterations with no improvement, aborting...\")\n",
    "            return True\n",
    "        previous_score = score\n",
    "        print(\"--------------------------------------\")\n",
    "\n",
    "    xgboost_search = BayesSearchCV(\n",
    "        xgboost_pipeline,\n",
    "        search_spaces=xgboost_distributions,\n",
    "        n_iter=1000,\n",
    "        cv=5,\n",
    "        scoring='accuracy',\n",
    "        random_state=1337,\n",
    "        n_points=5,\n",
    "        n_jobs=15\n",
    "    )\n",
    "\n",
    "    i = 0\n",
    "    total_i = 0\n",
    "    previous_score = 0\n",
    "\n",
    "    xgboost_search.fit(train['description'], train['ratingCategory'], callback=report_step_xgboost)\n",
    "    xgboost_train_pred = xgboost_search.predict(train['description'])\n",
    "    xgboost_test_pred = xgboost_search.predict(test['description'])\n",
    "\n",
    "\n",
    "\n",
    "# parameters = {\n",
    "#     'vect__max_df': (0.75, 1.0),\n",
    "#     'clf__max_depth':(5,10,15,20)\n",
    "# }\n",
    "\n",
    "# grid_search = GridSearchCV(randomforest_pipeline,parameters, cv=5, n_jobs=15, verbose=3)\n",
    "# grid_search.fit(train['description'], train['ratingCategory'])"
   ]
  },
  {
   "cell_type": "code",
   "execution_count": 125,
   "outputs": [
    {
     "data": {
      "text/plain": "OrderedDict([('model__colsample_bytree', 0.28),\n             ('model__gamma', 2.75),\n             ('model__learning_rate', 0.22),\n             ('model__max_depth', 60),\n             ('model__min_child_leaf', 7),\n             ('model__min_child_weight', 1),\n             ('model__n_estimators', 275),\n             ('model__scale_pos_weight', 100),\n             ('model__subsample', 0.8),\n             ('vect__max_df', 0.5),\n             ('vect__max_features', 775),\n             ('vect__min_df', 0.01)])"
     },
     "execution_count": 125,
     "metadata": {},
     "output_type": "execute_result"
    }
   ],
   "source": [
    "xgboost_search.best_params_"
   ],
   "metadata": {
    "collapsed": false,
    "pycharm": {
     "name": "#%%\n"
    }
   }
  },
  {
   "cell_type": "code",
   "execution_count": 126,
   "outputs": [
    {
     "data": {
      "text/plain": "0.7418644482505505"
     },
     "execution_count": 126,
     "metadata": {},
     "output_type": "execute_result"
    }
   ],
   "source": [
    "xgboost_search.best_score_"
   ],
   "metadata": {
    "collapsed": false,
    "pycharm": {
     "name": "#%%\n"
    }
   }
  },
  {
   "cell_type": "code",
   "execution_count": 135,
   "outputs": [
    {
     "data": {
      "text/plain": "Pipeline(memory=None,\n         steps=[('vect',\n                 TfidfVectorizer(analyzer='word', binary=False,\n                                 decode_error='strict',\n                                 dtype=<class 'numpy.float64'>,\n                                 encoding='utf-8', input='content',\n                                 lowercase=True, max_df=1.0, max_features=750,\n                                 min_df=0.02, ngram_range=(1, 4), norm='l2',\n                                 preprocessor=None, smooth_idf=True,\n                                 stop_words='english', strip_accents=None,\n                                 sublinear_tf=False,\n                                 token_pat...\n                 RandomForestClassifier(bootstrap=True, ccp_alpha=0.0,\n                                        class_weight=None, criterion='gini',\n                                        max_depth=20, max_features='auto',\n                                        max_leaf_nodes=None, max_samples=None,\n                                        min_impurity_decrease=0.0,\n                                        min_impurity_split=None,\n                                        min_samples_leaf=1, min_samples_split=2,\n                                        min_weight_fraction_leaf=0.0,\n                                        n_estimators=100, n_jobs=None,\n                                        oob_score=False, random_state=None,\n                                        verbose=0, warm_start=False))],\n         verbose=False)"
     },
     "execution_count": 135,
     "metadata": {},
     "output_type": "execute_result"
    }
   ],
   "source": [
    "randomforest_pipeline_hardcoded.fit(train['description'], train['ratingCategory'])"
   ],
   "metadata": {
    "collapsed": false,
    "pycharm": {
     "name": "#%%\n"
    }
   }
  },
  {
   "cell_type": "code",
   "execution_count": 136,
   "outputs": [
    {
     "name": "stdout",
     "output_type": "stream",
     "text": [
      "0.7230283732302268\n"
     ]
    }
   ],
   "source": [
    "from sklearn.model_selection import cross_val_score\n",
    "import numpy as np\n",
    "\n",
    "print(np.mean(cross_val_score(randomforest_pipeline_hardcoded, train['description'], train['ratingCategory'], cv=5,\n",
    "                                                n_jobs=14)))"
   ],
   "metadata": {
    "collapsed": false,
    "pycharm": {
     "name": "#%%\n"
    }
   }
  },
  {
   "cell_type": "markdown",
   "metadata": {},
   "source": [
    "### Make a Submission File\n",
    "*Note:* In a typical Kaggle competition, you are only allowed two submissions a day, so you only submit if you feel you cannot achieve higher test accuracy. For this competition the max daily submissions are capped at **20**. Submit for each demo and for your assignment. "
   ]
  },
  {
   "cell_type": "code",
   "execution_count": 132,
   "metadata": {},
   "outputs": [],
   "source": [
    "# Predictions on test sample\n",
    "# pred = xgboost_search.predict(test['description'])\n",
    "pred = xgboost_test_pred"
   ]
  },
  {
   "cell_type": "code",
   "execution_count": 133,
   "metadata": {},
   "outputs": [],
   "source": [
    "submission = pd.DataFrame({'id': test['id'], 'ratingCategory':pred})\n",
    "submission['ratingCategory'] = submission['ratingCategory'].astype('int64')"
   ]
  },
  {
   "cell_type": "code",
   "execution_count": 134,
   "metadata": {},
   "outputs": [
    {
     "data": {
      "text/plain": "     id  ratingCategory\n0  3461               1\n1  2604               1\n2  3341               0\n3  3764               1\n4  2306               1",
      "text/html": "<div>\n<style scoped>\n    .dataframe tbody tr th:only-of-type {\n        vertical-align: middle;\n    }\n\n    .dataframe tbody tr th {\n        vertical-align: top;\n    }\n\n    .dataframe thead th {\n        text-align: right;\n    }\n</style>\n<table border=\"1\" class=\"dataframe\">\n  <thead>\n    <tr style=\"text-align: right;\">\n      <th></th>\n      <th>id</th>\n      <th>ratingCategory</th>\n    </tr>\n  </thead>\n  <tbody>\n    <tr>\n      <th>0</th>\n      <td>3461</td>\n      <td>1</td>\n    </tr>\n    <tr>\n      <th>1</th>\n      <td>2604</td>\n      <td>1</td>\n    </tr>\n    <tr>\n      <th>2</th>\n      <td>3341</td>\n      <td>0</td>\n    </tr>\n    <tr>\n      <th>3</th>\n      <td>3764</td>\n      <td>1</td>\n    </tr>\n    <tr>\n      <th>4</th>\n      <td>2306</td>\n      <td>1</td>\n    </tr>\n  </tbody>\n</table>\n</div>"
     },
     "execution_count": 134,
     "metadata": {},
     "output_type": "execute_result"
    }
   ],
   "source": [
    "# Make Sure the Category is an Integer\n",
    "submission.head()"
   ]
  },
  {
   "cell_type": "code",
   "execution_count": 130,
   "metadata": {},
   "outputs": [],
   "source": [
    "subNumber += 1"
   ]
  },
  {
   "cell_type": "code",
   "execution_count": 131,
   "metadata": {},
   "outputs": [],
   "source": [
    "# Save your Submission File\n",
    "# Best to Use an Integer or Timestamp for different versions of your model\n",
    "\n",
    "submission.to_csv(f'./data/submission{subNumber}.csv', index=False)\n",
    "subNumber += 1"
   ]
  },
  {
   "cell_type": "markdown",
   "metadata": {},
   "source": [
    "## Challenge\n",
    "\n",
    "You're trying to achieve a minimum of 70% Accuracy on your model."
   ]
  },
  {
   "cell_type": "markdown",
   "metadata": {},
   "source": [
    "# Word Embeddings with Spacy (Learn)\n",
    "<a id=\"p3\"></a>"
   ]
  },
  {
   "cell_type": "markdown",
   "metadata": {},
   "source": [
    "## Follow Along"
   ]
  },
  {
   "cell_type": "code",
   "execution_count": 9,
   "metadata": {},
   "outputs": [],
   "source": [
    "# Apply to your Dataset\n",
    "\n",
    "from sklearn.ensemble import GradientBoostingClassifier\n",
    "import spacy\n",
    "nlp = spacy.load(\"en_core_web_lg\")\n",
    "\n",
    "def get_word_vectors(docs):\n",
    "    return [nlp(doc).vector for doc in docs]\n",
    "\n",
    "\n",
    "\n",
    "from scipy.stats import randint"
   ]
  },
  {
   "cell_type": "code",
   "execution_count": 37,
   "metadata": {},
   "outputs": [],
   "source": [
    "X_train = get_word_vectors(train['description'])\n",
    "X_test = get_word_vectors(test['description'])\n",
    "\n",
    "X_train = pd.DataFrame(X_train)\n",
    "X_test = pd.DataFrame(X_test)"
   ]
  },
  {
   "cell_type": "code",
   "execution_count": 79,
   "outputs": [
    {
     "name": "stdout",
     "output_type": "stream",
     "text": [
      "[21:22:14] WARNING: C:\\Users\\Administrator\\workspace\\xgboost-win64_release_1.1.0\\src\\learner.cc:480: \n",
      "Parameters: { min_child_leaf, scale_pos_weight } might not be used.\n",
      "\n",
      "  This may not be accurate due to some parameters are only used in language bindings but\n",
      "  passed down to XGBoost core.  Or some parameters are not used but slip through this\n",
      "  verification. Please open an issue if you find above cases.\n",
      "\n",
      "\n"
     ]
    }
   ],
   "source": [
    "from skopt import BayesSearchCV\n",
    "from xgboost import XGBClassifier\n",
    "from sklearn.linear_model import LogisticRegression, LogisticRegressionCV\n",
    "from sklearn.feature_selection import SelectKBest\n",
    "import warnings\n",
    "warnings.filterwarnings('ignore') #ignore warnings generated by bayes search\n",
    "\n",
    "tune = False\n",
    "xgboost_tune = False\n",
    "forest_tune = False\n",
    "\n",
    "if tune:\n",
    "    parameters = {\n",
    "        # 'vect__max_df': ( 0.75, 0.85, 0.95, 1.0),\n",
    "        # 'vect__min_df': (.02, .03, .05, .07),\n",
    "        'max_features': (225, 250, 275, 300),\n",
    "        'n_estimators':(115, 125, 140),\n",
    "        'max_depth':(215, 225, 240),\n",
    "        'min_samples_leaf': [8, 9, 10, 11, 12, 13]\n",
    "    }\n",
    "\n",
    "    xgboost_distributions = {\n",
    "        # 'vect__max_df': (0.5, 1.0),\n",
    "        # 'vect__min_df': (.01, .02, .03, .04, .05, .10),\n",
    "        # 'vect__max_features': (725, 750, 775),\n",
    "        'n_estimators': [390, 400, 410],\n",
    "        'max_depth': [48, 50, 52],\n",
    "        'learning_rate': [0.07, 0.08, 0.09],\n",
    "        'min_child_leaf':[5, 6, 7],\n",
    "        'min_child_weight': [24, 25, 26],\n",
    "        'colsample_bytree':[0.09, 0.10, 0.11],\n",
    "        'subsample':[0.88, 0.9, 0.92],\n",
    "        'gamma':[3.75, 4, 4.25],\n",
    "        'scale_pos_weight': [125, 130, 135]\n",
    "     }\n",
    "\n",
    "    randomforest = RandomForestClassifier(random_state=1337)\n",
    "    xgboost = XGBClassifier(seed=1337)\n",
    "\n",
    "    def report_step_forest(optim_result):\n",
    "        global previous_score\n",
    "        global i\n",
    "        global total_i\n",
    "        score = forest_search.best_score_\n",
    "        print(\"Random Forest best score: %s\" % score)\n",
    "        if score > previous_score:\n",
    "            i = 0\n",
    "        else:\n",
    "            i += 1\n",
    "        print(\"Iterations since improvement: \", i)\n",
    "        total_i += 1\n",
    "        print(\"Total iterations: \", total_i)\n",
    "        if i > 2:\n",
    "            print(\"Over 2 iterations with no improvement, aborting...\")\n",
    "            return True\n",
    "        previous_score = score\n",
    "\n",
    "    def report_step_xgboost(optim_result):\n",
    "        global previous_score\n",
    "        global i\n",
    "        global total_i\n",
    "        score = xgboost_search.best_score_\n",
    "        best_params = xgboost_search.best_params_\n",
    "        print(\"XGboost best score: %s\" % score)\n",
    "        print(\"XGboost best params: %s\" % best_params)\n",
    "        if score > previous_score:\n",
    "            i = 0\n",
    "        else:\n",
    "            i += 1\n",
    "        print(\"Iterations since improvement: \", i)\n",
    "        total_i += 1\n",
    "        print(\"Total iterations: \", total_i)\n",
    "        if i > 3:\n",
    "            print(\"Over 3 iterations with no improvement, aborting...\")\n",
    "            return True\n",
    "        previous_score = score\n",
    "        print(\"--------------------------------------\")\n",
    "\n",
    "    xgboost_search = BayesSearchCV(\n",
    "        xgboost,\n",
    "        search_spaces=xgboost_distributions,\n",
    "        n_iter=1000,\n",
    "        cv=5,\n",
    "        scoring='accuracy',\n",
    "        random_state=1337,\n",
    "        n_points=5,\n",
    "        n_jobs=15\n",
    "    )\n",
    "\n",
    "    forest_search = BayesSearchCV(\n",
    "        randomforest,\n",
    "        search_spaces=parameters,\n",
    "        n_iter=1000,\n",
    "        cv=5,\n",
    "        scoring='accuracy',\n",
    "        random_state=1337,\n",
    "        n_points=5,\n",
    "        n_jobs=15\n",
    "    )\n",
    "\n",
    "\n",
    "    if forest_tune:\n",
    "        i = 0\n",
    "        total_i = 0\n",
    "        previous_score = 0\n",
    "\n",
    "        forest_search.fit(X_train, train['ratingCategory'], callback=report_step_forest)\n",
    "        forest_train_pred = forest_search.predict(X_train)\n",
    "        forest_test_pred = forest_search.predict(X_test)\n",
    "\n",
    "    if xgboost_tune:\n",
    "        i = 0\n",
    "        total_i = 0\n",
    "        previous_score = 0\n",
    "\n",
    "        xgboost_search.fit(X_train, train['ratingCategory'], callback=report_step_xgboost)\n",
    "        xgboost_train_pred = xgboost_search.predict(X_train)\n",
    "        xgboost_test_pred = xgboost_search.predict(X_test)\n",
    "\n",
    "else:\n",
    "\n",
    "    randomforest = RandomForestClassifier(random_state=1337, max_depth=225, max_features=250,\n",
    "                                                   min_samples_leaf=13, n_estimators=125, n_jobs=15)\n",
    "    xgboost = XGBClassifier(seed=1337, colsample_bytree=0.1, gamma=4, learning_rate=0.08, max_depth=50,\n",
    "                            min_child_leaf=6, min_child_weight=25, n_estimators=400, scale_pos_weight=130,\n",
    "                            subsample=0.9, n_jobs=15)\n",
    "\n",
    "    logistic = LogisticRegressionCV(max_iter=300, n_jobs=15)\n",
    "\n",
    "    randomforest.fit(X_train, train['ratingCategory'])\n",
    "    forest_train_pred = randomforest.predict(X_train)\n",
    "    forest_test_pred = randomforest.predict(X_test)\n",
    "\n",
    "    xgboost.fit(X_train, train['ratingCategory'])\n",
    "    xgboost_train_pred = xgboost.predict(X_train)\n",
    "    xgboost_test_pred = xgboost.predict(X_test)\n",
    "\n",
    "    logistic.fit(X_train, train['ratingCategory'])\n",
    "    logistic_train_pred = logistic.predict(X_train)\n",
    "    logistic_test_pred = logistic.predict(X_test)\n",
    "\n"
   ],
   "metadata": {
    "collapsed": false,
    "pycharm": {
     "name": "#%%\n"
    }
   }
  },
  {
   "cell_type": "code",
   "execution_count": 38,
   "outputs": [],
   "source": [
    "\n",
    "\n",
    "# xgboost_test = xgboost.fit(X_train, train['ratingCategory'])\n",
    "# randomforest_test = randomforest_pipeline.fit(X_train, train['ratingCategory'])"
   ],
   "metadata": {
    "collapsed": false,
    "pycharm": {
     "name": "#%%\n"
    }
   }
  },
  {
   "cell_type": "code",
   "execution_count": 80,
   "outputs": [
    {
     "name": "stdout",
     "output_type": "stream",
     "text": [
      "XGboost cross val score: 0.7487175036585036\n",
      "Random forest cross val score: 0.7386849736497952\n",
      "Logistic regression cross val score: 0.7514135740214811\n"
     ]
    }
   ],
   "source": [
    "from sklearn.model_selection import cross_val_score\n",
    "\n",
    "if tune:\n",
    "    if logistic_tune:\n",
    "        print(\"Logistic regression best score:\", logistic_search.best_score_)\n",
    "        print(\"Logistic regression best params:\", logistic_search.best_params_)\n",
    "else:\n",
    "    print(\"XGboost cross val score:\", np.mean(cross_val_score(xgboost, X_train, train['ratingCategory'], cv=5,\n",
    "                                                n_jobs=14)))\n",
    "\n",
    "    print(\"Random forest cross val score:\", np.mean(cross_val_score(randomforest, X_train, train['ratingCategory'], cv=5,\n",
    "                                                n_jobs=14)))\n",
    "\n",
    "    print(\"Logistic regression cross val score:\", np.mean(cross_val_score(logistic, X_train, train['ratingCategory'], cv=5,\n",
    "                                            n_jobs=14)))"
   ],
   "metadata": {
    "collapsed": false,
    "pycharm": {
     "name": "#%%\n"
    }
   }
  },
  {
   "cell_type": "code",
   "execution_count": 43,
   "outputs": [
    {
     "data": {
      "text/plain": "OrderedDict([('colsample_bytree', 0.1),\n             ('gamma', 4),\n             ('learning_rate', 0.08),\n             ('max_depth', 50),\n             ('min_child_leaf', 6),\n             ('min_child_weight', 25),\n             ('n_estimators', 400),\n             ('scale_pos_weight', 130),\n             ('subsample', 0.9)])"
     },
     "execution_count": 43,
     "metadata": {},
     "output_type": "execute_result"
    }
   ],
   "source": [
    "xgboost_search.best_params_"
   ],
   "metadata": {
    "collapsed": false,
    "pycharm": {
     "name": "#%%\n"
    }
   }
  },
  {
   "cell_type": "code",
   "execution_count": 44,
   "outputs": [
    {
     "data": {
      "text/plain": "0.7487154391974553"
     },
     "execution_count": 44,
     "metadata": {},
     "output_type": "execute_result"
    }
   ],
   "source": [
    "xgboost_search.best_score_"
   ],
   "metadata": {
    "collapsed": false,
    "pycharm": {
     "name": "#%%\n"
    }
   }
  },
  {
   "cell_type": "code",
   "execution_count": 73,
   "outputs": [],
   "source": [
    "from sklearn.linear_model import LogisticRegressionCV\n",
    "\n",
    "model = LogisticRegressionCV(max_iter=300, n_jobs=15)\n",
    "model.fit(X_train, train['ratingCategory'])\n",
    "\n",
    "logistic_test = model.predict(X_test)"
   ],
   "metadata": {
    "collapsed": false,
    "pycharm": {
     "name": "#%%\n"
    }
   }
  },
  {
   "cell_type": "code",
   "execution_count": 72,
   "outputs": [
    {
     "name": "stdout",
     "output_type": "stream",
     "text": [
      "Logistic regression cross val score: 0.7514135740214811\n"
     ]
    }
   ],
   "source": [
    "print(\"Logistic regression cross val score:\", np.mean(cross_val_score(model, X_train, train['ratingCategory'], cv=5,\n",
    "                                            n_jobs=14)))\n"
   ],
   "metadata": {
    "collapsed": false,
    "pycharm": {
     "name": "#%%\n"
    }
   }
  },
  {
   "cell_type": "code",
   "execution_count": 75,
   "outputs": [],
   "source": [
    "# import pandas as pd\n",
    "#\n",
    "# df = pd.DataFrame(X_tfidf.todense(), columns=vicktor.get_feature_names())"
   ],
   "metadata": {
    "collapsed": false,
    "pycharm": {
     "name": "#%%\n"
    }
   }
  },
  {
   "cell_type": "code",
   "execution_count": 76,
   "outputs": [
    {
     "data": {
      "text/plain": "RandomForestClassifier(bootstrap=True, ccp_alpha=0.0, class_weight=None,\n                       criterion='gini', max_depth=None, max_features='auto',\n                       max_leaf_nodes=None, max_samples=None,\n                       min_impurity_decrease=0.0, min_impurity_split=None,\n                       min_samples_leaf=1, min_samples_split=2,\n                       min_weight_fraction_leaf=0.0, n_estimators=100,\n                       n_jobs=None, oob_score=False, random_state=None,\n                       verbose=0, warm_start=False)"
     },
     "execution_count": 76,
     "metadata": {},
     "output_type": "execute_result"
    }
   ],
   "source": [
    "# rfc = RandomForestClassifier()\n",
    "# rfc.fit(X, train['ratingCategory'])"
   ],
   "metadata": {
    "collapsed": false,
    "pycharm": {
     "name": "#%%\n"
    }
   }
  },
  {
   "cell_type": "code",
   "execution_count": 77,
   "outputs": [
    {
     "data": {
      "text/plain": "1.0"
     },
     "execution_count": 77,
     "metadata": {},
     "output_type": "execute_result"
    }
   ],
   "source": [
    "# rfc.score(X,train['ratingCategory'])"
   ],
   "metadata": {
    "collapsed": false,
    "pycharm": {
     "name": "#%%\n"
    }
   }
  },
  {
   "cell_type": "code",
   "execution_count": 88,
   "outputs": [
    {
     "data": {
      "text/plain": "300"
     },
     "execution_count": 88,
     "metadata": {},
     "output_type": "execute_result"
    }
   ],
   "source": [
    "# len(X[0])"
   ],
   "metadata": {
    "collapsed": false,
    "pycharm": {
     "name": "#%%\n"
    }
   }
  },
  {
   "cell_type": "markdown",
   "metadata": {},
   "source": [
    "### Make a Submission File"
   ]
  },
  {
   "cell_type": "code",
   "execution_count": 74,
   "metadata": {},
   "outputs": [],
   "source": [
    "# Predictions on test sample\n",
    "pred = logistic_test"
   ]
  },
  {
   "cell_type": "code",
   "execution_count": 75,
   "metadata": {},
   "outputs": [],
   "source": [
    "submission = pd.DataFrame({'id': test['id'], 'ratingCategory':pred})\n",
    "submission['ratingCategory'] = submission['ratingCategory'].astype('int64')"
   ]
  },
  {
   "cell_type": "code",
   "execution_count": 76,
   "metadata": {},
   "outputs": [
    {
     "data": {
      "text/plain": "     id  ratingCategory\n0  3461               1\n1  2604               1\n2  3341               1\n3  3764               1\n4  2306               1",
      "text/html": "<div>\n<style scoped>\n    .dataframe tbody tr th:only-of-type {\n        vertical-align: middle;\n    }\n\n    .dataframe tbody tr th {\n        vertical-align: top;\n    }\n\n    .dataframe thead th {\n        text-align: right;\n    }\n</style>\n<table border=\"1\" class=\"dataframe\">\n  <thead>\n    <tr style=\"text-align: right;\">\n      <th></th>\n      <th>id</th>\n      <th>ratingCategory</th>\n    </tr>\n  </thead>\n  <tbody>\n    <tr>\n      <th>0</th>\n      <td>3461</td>\n      <td>1</td>\n    </tr>\n    <tr>\n      <th>1</th>\n      <td>2604</td>\n      <td>1</td>\n    </tr>\n    <tr>\n      <th>2</th>\n      <td>3341</td>\n      <td>1</td>\n    </tr>\n    <tr>\n      <th>3</th>\n      <td>3764</td>\n      <td>1</td>\n    </tr>\n    <tr>\n      <th>4</th>\n      <td>2306</td>\n      <td>1</td>\n    </tr>\n  </tbody>\n</table>\n</div>"
     },
     "execution_count": 76,
     "metadata": {},
     "output_type": "execute_result"
    }
   ],
   "source": [
    "# Make Sure the Category is an Integer\n",
    "submission.head()"
   ]
  },
  {
   "cell_type": "code",
   "execution_count": 77,
   "metadata": {},
   "outputs": [],
   "source": [
    "# Save your Submission File\n",
    "# Best to Use an Integer or Timestamp for different versions of your model\n",
    "\n",
    "submission.to_csv(f'./data/submission{subNumber}.csv', index=False)\n",
    "subNumber += 1"
   ]
  },
  {
   "cell_type": "markdown",
   "metadata": {},
   "source": [
    "## Challenge\n",
    "\n",
    "What you should be doing now:\n",
    "1. Join the Kaggle Competition\n",
    "2. Download the data\n",
    "3. Train a model & try: \n",
    "    - Creating a Text Extraction & Classification Pipeline\n",
    "    - Tune the pipeline with a `GridSearchCV` or `RandomizedSearchCV`\n",
    "    - Add some Latent Semantic Indexing (lsi) into your pipeline. *Note:* You can grid search a nested pipeline, but you have to use double underscores ie `lsi__svd__n_components`\n",
    "    - Try to extract word embeddings with Spacy and use those embeddings as your features for a classification model.\n",
    "4. Make a submission to Kaggle "
   ]
  },
  {
   "cell_type": "markdown",
   "metadata": {},
   "source": [
    "# Post Lecture Assignment\n",
    "<a id=\"p4\"></a>\n",
    "\n",
    "Your primary assignment this afternoon is to achieve a minimum of 70% accuracy on the Kaggle competition. Once you have achieved 70% accuracy, please work on the following: \n",
    "\n",
    "1. Research \"Sentiment Analysis\". Provide answers in markdown to the following questions: \n",
    "    - What is \"Sentiment Analysis\"? \n",
    "    - Is Document Classification different than \"Sentiment Analysis\"? Provide evidence for your response\n",
    "    - How do create labeled sentiment data? Are those labels really sentiment?\n",
    "    - What are common applications of sentiment analysis?\n",
    "2. Research our why word embeddings worked better for the lecture notebook than on the whiskey competition.\n",
    "    - This [text classification documentation](https://developers.google.com/machine-learning/guides/text-classification/step-2-5) from Google might be of interest\n",
    "    - Neural Networks are becoming more popular for document classification. Why is that the case?"
   ]
  }
 ],
 "metadata": {
  "kernelspec": {
   "name": "u4-s1-nlp",
   "language": "python",
   "display_name": "U4-S1-NLP (Python3)"
  },
  "language_info": {
   "codemirror_mode": {
    "name": "ipython",
    "version": 3
   },
   "file_extension": ".py",
   "mimetype": "text/x-python",
   "name": "python",
   "nbconvert_exporter": "python",
   "pygments_lexer": "ipython3",
   "version": "3.7.0"
  }
 },
 "nbformat": 4,
 "nbformat_minor": 4
}