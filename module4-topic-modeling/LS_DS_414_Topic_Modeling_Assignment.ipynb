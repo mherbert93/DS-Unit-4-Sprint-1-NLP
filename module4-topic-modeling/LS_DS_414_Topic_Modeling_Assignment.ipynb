{
 "cells": [
  {
   "cell_type": "markdown",
   "metadata": {},
   "source": [
    "<img align=\"left\" src=\"https://lever-client-logos.s3.amazonaws.com/864372b1-534c-480e-acd5-9711f850815c-1524247202159.png\" width=200>\n",
    "<br></br>\n",
    "<br></br>\n",
    "\n",
    "# Topic Modeling\n",
    "## *Data Science Unit 4 Sprint 1 Assignment 4*\n",
    "\n",
    "Analyze a corpus of Amazon reviews from Unit 4 Sprint 1 Module 1's lecture using topic modeling: \n",
    "\n",
    "- Fit a Gensim LDA topic model on Amazon Reviews\n",
    "- Select appropriate number of topics\n",
    "- Create some dope visualization of the topics\n",
    "- Write a few bullets on your findings in markdown at the end\n",
    "- **Note**: You don't *have* to use generators for this assignment"
   ]
  },
  {
   "cell_type": "code",
   "execution_count": 2,
   "metadata": {},
   "outputs": [],
   "source": [
    "import pandas as pd\n",
    "import numpy as np\n",
    "import gensim\n",
    "import re\n",
    "from gensim import corpora\n",
    "from gensim.models.ldamulticore import LdaMulticore\n",
    "import spacy\n",
    "from gensim.models.coherencemodel import CoherenceModel\n",
    "\n",
    "nlp = spacy.load(\"en_core_web_lg\")"
   ]
  },
  {
   "cell_type": "code",
   "execution_count": 3,
   "outputs": [],
   "source": [
    "def compute_coherence_values(dictionary, corpus, limit, n_workers, state, start=2, step=3, passes=5):\n",
    "    \"\"\"\n",
    "    Compute u_mass coherence for various number of topics\n",
    "\n",
    "    Parameters:\n",
    "    ----------\n",
    "    dictionary : Gensim dictionary\n",
    "    corpus : Gensim corpus\n",
    "    limit : Max num of topics\n",
    "    passes: the number of times the entire lda model & coherence values are calculated\n",
    "\n",
    "    Returns:\n",
    "    -------\n",
    "    coherence_values : Coherence values corresponding to the LDA model with respective number of topics\n",
    "    \"\"\"\n",
    "\n",
    "    coherence_values = []\n",
    "\n",
    "    for iter_ in range(passes):\n",
    "        for num_topics in range(start, limit, step):\n",
    "            model = LdaMulticore(corpus=corpus, num_topics=num_topics, id2word=dictionary, workers=n_workers, random_state=state)\n",
    "            coherencemodel = CoherenceModel(model=model,dictionary=dictionary,corpus=corpus, coherence='u_mass')\n",
    "            coherence_values.append({'pass': iter_,\n",
    "                                     'num_topics': num_topics,\n",
    "                                     'coherence_score': coherencemodel.get_coherence()\n",
    "                                    })\n",
    "\n",
    "    return coherence_values"
   ],
   "metadata": {
    "collapsed": false,
    "pycharm": {
     "name": "#%%\n"
    }
   }
  },
  {
   "cell_type": "code",
   "execution_count": 4,
   "outputs": [],
   "source": [
    "df = pd.read_csv('..\\module1-text-data\\data\\Datafiniti_Amazon_Consumer_Reviews_of_Amazon_Products_May19.csv')"
   ],
   "metadata": {
    "collapsed": false,
    "pycharm": {
     "name": "#%%\n"
    }
   }
  },
  {
   "cell_type": "code",
   "execution_count": 5,
   "outputs": [
    {
     "data": {
      "text/plain": "(28332, 24)"
     },
     "execution_count": 5,
     "metadata": {},
     "output_type": "execute_result"
    }
   ],
   "source": [
    "df.shape"
   ],
   "metadata": {
    "collapsed": false,
    "pycharm": {
     "name": "#%%\n"
    }
   }
  },
  {
   "cell_type": "code",
   "execution_count": 6,
   "outputs": [
    {
     "data": {
      "text/plain": "                     id             dateAdded           dateUpdated  \\\n0  AVpgNzjwLJeJML43Kpxn  2015-10-30T08:59:32Z  2019-04-25T09:08:16Z   \n1  AVpgNzjwLJeJML43Kpxn  2015-10-30T08:59:32Z  2019-04-25T09:08:16Z   \n2  AVpgNzjwLJeJML43Kpxn  2015-10-30T08:59:32Z  2019-04-25T09:08:16Z   \n3  AVpgNzjwLJeJML43Kpxn  2015-10-30T08:59:32Z  2019-04-25T09:08:16Z   \n4  AVpgNzjwLJeJML43Kpxn  2015-10-30T08:59:32Z  2019-04-25T09:08:16Z   \n\n                                                name                  asins  \\\n0  AmazonBasics AAA Performance Alkaline Batterie...  B00QWO9P0O,B00LH3DMUO   \n1  AmazonBasics AAA Performance Alkaline Batterie...  B00QWO9P0O,B00LH3DMUO   \n2  AmazonBasics AAA Performance Alkaline Batterie...  B00QWO9P0O,B00LH3DMUO   \n3  AmazonBasics AAA Performance Alkaline Batterie...  B00QWO9P0O,B00LH3DMUO   \n4  AmazonBasics AAA Performance Alkaline Batterie...  B00QWO9P0O,B00LH3DMUO   \n\n          brand                                         categories  \\\n0  Amazonbasics  AA,AAA,Health,Electronics,Health & Household,C...   \n1  Amazonbasics  AA,AAA,Health,Electronics,Health & Household,C...   \n2  Amazonbasics  AA,AAA,Health,Electronics,Health & Household,C...   \n3  Amazonbasics  AA,AAA,Health,Electronics,Health & Household,C...   \n4  Amazonbasics  AA,AAA,Health,Electronics,Health & Household,C...   \n\n  primaryCategories                                          imageURLs  \\\n0   Health & Beauty  https://images-na.ssl-images-amazon.com/images...   \n1   Health & Beauty  https://images-na.ssl-images-amazon.com/images...   \n2   Health & Beauty  https://images-na.ssl-images-amazon.com/images...   \n3   Health & Beauty  https://images-na.ssl-images-amazon.com/images...   \n4   Health & Beauty  https://images-na.ssl-images-amazon.com/images...   \n\n                                                keys  ... reviews.didPurchase  \\\n0  amazonbasics/hl002619,amazonbasicsaaaperforman...  ...                 NaN   \n1  amazonbasics/hl002619,amazonbasicsaaaperforman...  ...                 NaN   \n2  amazonbasics/hl002619,amazonbasicsaaaperforman...  ...                 NaN   \n3  amazonbasics/hl002619,amazonbasicsaaaperforman...  ...                 NaN   \n4  amazonbasics/hl002619,amazonbasicsaaaperforman...  ...                 NaN   \n\n  reviews.doRecommend reviews.id reviews.numHelpful reviews.rating  \\\n0                 NaN        NaN                NaN              3   \n1                 NaN        NaN                NaN              4   \n2                 NaN        NaN                NaN              5   \n3                 NaN        NaN                NaN              5   \n4                 NaN        NaN                NaN              5   \n\n                                  reviews.sourceURLs  \\\n0  https://www.amazon.com/product-reviews/B00QWO9...   \n1  https://www.amazon.com/product-reviews/B00QWO9...   \n2  https://www.amazon.com/product-reviews/B00QWO9...   \n3  https://www.amazon.com/product-reviews/B00QWO9...   \n4  https://www.amazon.com/product-reviews/B00QWO9...   \n\n                                        reviews.text  \\\n0  I order 3 of them and one of the item is bad q...   \n1  Bulk is always the less expensive way to go fo...   \n2  Well they are not Duracell but for the price i...   \n3  Seem to work as well as name brand batteries a...   \n4  These batteries are very long lasting the pric...   \n\n                                       reviews.title  reviews.username  \\\n0  ... 3 of them and one of the item is bad quali...        Byger yang   \n1  ... always the less expensive way to go for pr...              ByMG   \n2  ... are not Duracell but for the price i am ha...  BySharon Lambert   \n3  ... as well as name brand batteries at a much ...     Bymark sexson   \n4  ... batteries are very long lasting the price ...           Bylinda   \n\n                                          sourceURLs  \n0  https://www.barcodable.com/upc/841710106442,ht...  \n1  https://www.barcodable.com/upc/841710106442,ht...  \n2  https://www.barcodable.com/upc/841710106442,ht...  \n3  https://www.barcodable.com/upc/841710106442,ht...  \n4  https://www.barcodable.com/upc/841710106442,ht...  \n\n[5 rows x 24 columns]",
      "text/html": "<div>\n<style scoped>\n    .dataframe tbody tr th:only-of-type {\n        vertical-align: middle;\n    }\n\n    .dataframe tbody tr th {\n        vertical-align: top;\n    }\n\n    .dataframe thead th {\n        text-align: right;\n    }\n</style>\n<table border=\"1\" class=\"dataframe\">\n  <thead>\n    <tr style=\"text-align: right;\">\n      <th></th>\n      <th>id</th>\n      <th>dateAdded</th>\n      <th>dateUpdated</th>\n      <th>name</th>\n      <th>asins</th>\n      <th>brand</th>\n      <th>categories</th>\n      <th>primaryCategories</th>\n      <th>imageURLs</th>\n      <th>keys</th>\n      <th>...</th>\n      <th>reviews.didPurchase</th>\n      <th>reviews.doRecommend</th>\n      <th>reviews.id</th>\n      <th>reviews.numHelpful</th>\n      <th>reviews.rating</th>\n      <th>reviews.sourceURLs</th>\n      <th>reviews.text</th>\n      <th>reviews.title</th>\n      <th>reviews.username</th>\n      <th>sourceURLs</th>\n    </tr>\n  </thead>\n  <tbody>\n    <tr>\n      <th>0</th>\n      <td>AVpgNzjwLJeJML43Kpxn</td>\n      <td>2015-10-30T08:59:32Z</td>\n      <td>2019-04-25T09:08:16Z</td>\n      <td>AmazonBasics AAA Performance Alkaline Batterie...</td>\n      <td>B00QWO9P0O,B00LH3DMUO</td>\n      <td>Amazonbasics</td>\n      <td>AA,AAA,Health,Electronics,Health &amp; Household,C...</td>\n      <td>Health &amp; Beauty</td>\n      <td>https://images-na.ssl-images-amazon.com/images...</td>\n      <td>amazonbasics/hl002619,amazonbasicsaaaperforman...</td>\n      <td>...</td>\n      <td>NaN</td>\n      <td>NaN</td>\n      <td>NaN</td>\n      <td>NaN</td>\n      <td>3</td>\n      <td>https://www.amazon.com/product-reviews/B00QWO9...</td>\n      <td>I order 3 of them and one of the item is bad q...</td>\n      <td>... 3 of them and one of the item is bad quali...</td>\n      <td>Byger yang</td>\n      <td>https://www.barcodable.com/upc/841710106442,ht...</td>\n    </tr>\n    <tr>\n      <th>1</th>\n      <td>AVpgNzjwLJeJML43Kpxn</td>\n      <td>2015-10-30T08:59:32Z</td>\n      <td>2019-04-25T09:08:16Z</td>\n      <td>AmazonBasics AAA Performance Alkaline Batterie...</td>\n      <td>B00QWO9P0O,B00LH3DMUO</td>\n      <td>Amazonbasics</td>\n      <td>AA,AAA,Health,Electronics,Health &amp; Household,C...</td>\n      <td>Health &amp; Beauty</td>\n      <td>https://images-na.ssl-images-amazon.com/images...</td>\n      <td>amazonbasics/hl002619,amazonbasicsaaaperforman...</td>\n      <td>...</td>\n      <td>NaN</td>\n      <td>NaN</td>\n      <td>NaN</td>\n      <td>NaN</td>\n      <td>4</td>\n      <td>https://www.amazon.com/product-reviews/B00QWO9...</td>\n      <td>Bulk is always the less expensive way to go fo...</td>\n      <td>... always the less expensive way to go for pr...</td>\n      <td>ByMG</td>\n      <td>https://www.barcodable.com/upc/841710106442,ht...</td>\n    </tr>\n    <tr>\n      <th>2</th>\n      <td>AVpgNzjwLJeJML43Kpxn</td>\n      <td>2015-10-30T08:59:32Z</td>\n      <td>2019-04-25T09:08:16Z</td>\n      <td>AmazonBasics AAA Performance Alkaline Batterie...</td>\n      <td>B00QWO9P0O,B00LH3DMUO</td>\n      <td>Amazonbasics</td>\n      <td>AA,AAA,Health,Electronics,Health &amp; Household,C...</td>\n      <td>Health &amp; Beauty</td>\n      <td>https://images-na.ssl-images-amazon.com/images...</td>\n      <td>amazonbasics/hl002619,amazonbasicsaaaperforman...</td>\n      <td>...</td>\n      <td>NaN</td>\n      <td>NaN</td>\n      <td>NaN</td>\n      <td>NaN</td>\n      <td>5</td>\n      <td>https://www.amazon.com/product-reviews/B00QWO9...</td>\n      <td>Well they are not Duracell but for the price i...</td>\n      <td>... are not Duracell but for the price i am ha...</td>\n      <td>BySharon Lambert</td>\n      <td>https://www.barcodable.com/upc/841710106442,ht...</td>\n    </tr>\n    <tr>\n      <th>3</th>\n      <td>AVpgNzjwLJeJML43Kpxn</td>\n      <td>2015-10-30T08:59:32Z</td>\n      <td>2019-04-25T09:08:16Z</td>\n      <td>AmazonBasics AAA Performance Alkaline Batterie...</td>\n      <td>B00QWO9P0O,B00LH3DMUO</td>\n      <td>Amazonbasics</td>\n      <td>AA,AAA,Health,Electronics,Health &amp; Household,C...</td>\n      <td>Health &amp; Beauty</td>\n      <td>https://images-na.ssl-images-amazon.com/images...</td>\n      <td>amazonbasics/hl002619,amazonbasicsaaaperforman...</td>\n      <td>...</td>\n      <td>NaN</td>\n      <td>NaN</td>\n      <td>NaN</td>\n      <td>NaN</td>\n      <td>5</td>\n      <td>https://www.amazon.com/product-reviews/B00QWO9...</td>\n      <td>Seem to work as well as name brand batteries a...</td>\n      <td>... as well as name brand batteries at a much ...</td>\n      <td>Bymark sexson</td>\n      <td>https://www.barcodable.com/upc/841710106442,ht...</td>\n    </tr>\n    <tr>\n      <th>4</th>\n      <td>AVpgNzjwLJeJML43Kpxn</td>\n      <td>2015-10-30T08:59:32Z</td>\n      <td>2019-04-25T09:08:16Z</td>\n      <td>AmazonBasics AAA Performance Alkaline Batterie...</td>\n      <td>B00QWO9P0O,B00LH3DMUO</td>\n      <td>Amazonbasics</td>\n      <td>AA,AAA,Health,Electronics,Health &amp; Household,C...</td>\n      <td>Health &amp; Beauty</td>\n      <td>https://images-na.ssl-images-amazon.com/images...</td>\n      <td>amazonbasics/hl002619,amazonbasicsaaaperforman...</td>\n      <td>...</td>\n      <td>NaN</td>\n      <td>NaN</td>\n      <td>NaN</td>\n      <td>NaN</td>\n      <td>5</td>\n      <td>https://www.amazon.com/product-reviews/B00QWO9...</td>\n      <td>These batteries are very long lasting the pric...</td>\n      <td>... batteries are very long lasting the price ...</td>\n      <td>Bylinda</td>\n      <td>https://www.barcodable.com/upc/841710106442,ht...</td>\n    </tr>\n  </tbody>\n</table>\n<p>5 rows × 24 columns</p>\n</div>"
     },
     "execution_count": 6,
     "metadata": {},
     "output_type": "execute_result"
    }
   ],
   "source": [
    "df.head()"
   ],
   "metadata": {
    "collapsed": false,
    "pycharm": {
     "name": "#%%\n"
    }
   }
  },
  {
   "cell_type": "code",
   "execution_count": 7,
   "outputs": [],
   "source": [
    "tokens = []\n",
    "\n",
    "for doc in nlp.pipe(df['reviews.text']):\n",
    "\n",
    "    doc_tokens = []\n",
    "\n",
    "    for token in doc:\n",
    "        if ((token.is_stop != True) and (token.pos_ != 'PRON')) and (token.is_punct !=True):\n",
    "            doc_tokens.append(token.lemma_.strip())\n",
    "\n",
    "    tokens.append(doc_tokens)"
   ],
   "metadata": {
    "collapsed": false,
    "pycharm": {
     "name": "#%%\n"
    }
   }
  },
  {
   "cell_type": "code",
   "execution_count": 8,
   "outputs": [
    {
     "data": {
      "text/plain": "True"
     },
     "execution_count": 8,
     "metadata": {},
     "output_type": "execute_result"
    }
   ],
   "source": [
    "len(tokens) == df.shape[0]"
   ],
   "metadata": {
    "collapsed": false,
    "pycharm": {
     "name": "#%%\n"
    }
   }
  },
  {
   "cell_type": "code",
   "execution_count": 9,
   "outputs": [
    {
     "data": {
      "text/plain": "[['order',\n  '3',\n  'item',\n  'bad',\n  'quality',\n  'miss',\n  'backup',\n  'spring',\n  'pc',\n  'aluminum',\n  'battery',\n  'work'],\n ['bulk', 'expensive', 'way', 'product', 'like'],\n ['Duracell', 'price', 'happy'],\n ['work', 'brand', 'battery', 'well', 'price'],\n ['battery', 'long', 'last', 'price', 'great']]"
     },
     "execution_count": 9,
     "metadata": {},
     "output_type": "execute_result"
    }
   ],
   "source": [
    "tokens[:5]"
   ],
   "metadata": {
    "collapsed": false,
    "pycharm": {
     "name": "#%%\n"
    }
   }
  },
  {
   "cell_type": "code",
   "execution_count": 10,
   "outputs": [],
   "source": [
    "id2word = corpora.Dictionary(tokens)"
   ],
   "metadata": {
    "collapsed": false,
    "pycharm": {
     "name": "#%%\n"
    }
   }
  },
  {
   "cell_type": "code",
   "execution_count": 11,
   "outputs": [
    {
     "data": {
      "text/plain": "9705"
     },
     "execution_count": 11,
     "metadata": {},
     "output_type": "execute_result"
    }
   ],
   "source": [
    "len(id2word.keys())"
   ],
   "metadata": {
    "collapsed": false,
    "pycharm": {
     "name": "#%%\n"
    }
   }
  },
  {
   "cell_type": "code",
   "execution_count": 12,
   "outputs": [],
   "source": [
    "id2word.filter_extremes(no_below=5, no_above=.95)"
   ],
   "metadata": {
    "collapsed": false,
    "pycharm": {
     "name": "#%%\n"
    }
   }
  },
  {
   "cell_type": "code",
   "execution_count": 13,
   "outputs": [
    {
     "data": {
      "text/plain": "3082"
     },
     "execution_count": 13,
     "metadata": {},
     "output_type": "execute_result"
    }
   ],
   "source": [
    "len(id2word.keys())"
   ],
   "metadata": {
    "collapsed": false,
    "pycharm": {
     "name": "#%%\n"
    }
   }
  },
  {
   "cell_type": "code",
   "execution_count": 14,
   "outputs": [],
   "source": [
    "corpora = [id2word.doc2bow(doc) for doc in tokens]"
   ],
   "metadata": {
    "collapsed": false,
    "pycharm": {
     "name": "#%%\n"
    }
   }
  },
  {
   "cell_type": "code",
   "execution_count": 15,
   "outputs": [
    {
     "data": {
      "text/plain": "[(0, 1),\n (1, 1),\n (2, 1),\n (3, 1),\n (4, 1),\n (5, 1),\n (6, 1),\n (7, 1),\n (8, 1),\n (9, 1),\n (10, 1)]"
     },
     "execution_count": 15,
     "metadata": {},
     "output_type": "execute_result"
    }
   ],
   "source": [
    "corpora[0]"
   ],
   "metadata": {
    "collapsed": false,
    "pycharm": {
     "name": "#%%\n"
    }
   }
  },
  {
   "cell_type": "code",
   "execution_count": 16,
   "outputs": [],
   "source": [
    "coherence_values = compute_coherence_values(dictionary=id2word,\n",
    "                                                        corpus=corpora,\n",
    "                                                        start=3,\n",
    "                                                        limit=40,\n",
    "                                                        step=2,\n",
    "                                                        passes=1,\n",
    "                                                        n_workers=16,\n",
    "                                                        state=1337)"
   ],
   "metadata": {
    "collapsed": false,
    "pycharm": {
     "name": "#%%\n"
    }
   }
  },
  {
   "cell_type": "code",
   "execution_count": 17,
   "outputs": [],
   "source": [
    "topic_coherence = pd.DataFrame.from_records(coherence_values)"
   ],
   "metadata": {
    "collapsed": false,
    "pycharm": {
     "name": "#%%\n"
    }
   }
  },
  {
   "cell_type": "code",
   "execution_count": 18,
   "outputs": [
    {
     "data": {
      "text/plain": "   pass  num_topics  coherence_score\n0     0           3        -2.313736\n1     0           5        -2.365223\n2     0           7        -2.347826\n3     0           9        -2.387286\n4     0          11        -2.369857",
      "text/html": "<div>\n<style scoped>\n    .dataframe tbody tr th:only-of-type {\n        vertical-align: middle;\n    }\n\n    .dataframe tbody tr th {\n        vertical-align: top;\n    }\n\n    .dataframe thead th {\n        text-align: right;\n    }\n</style>\n<table border=\"1\" class=\"dataframe\">\n  <thead>\n    <tr style=\"text-align: right;\">\n      <th></th>\n      <th>pass</th>\n      <th>num_topics</th>\n      <th>coherence_score</th>\n    </tr>\n  </thead>\n  <tbody>\n    <tr>\n      <th>0</th>\n      <td>0</td>\n      <td>3</td>\n      <td>-2.313736</td>\n    </tr>\n    <tr>\n      <th>1</th>\n      <td>0</td>\n      <td>5</td>\n      <td>-2.365223</td>\n    </tr>\n    <tr>\n      <th>2</th>\n      <td>0</td>\n      <td>7</td>\n      <td>-2.347826</td>\n    </tr>\n    <tr>\n      <th>3</th>\n      <td>0</td>\n      <td>9</td>\n      <td>-2.387286</td>\n    </tr>\n    <tr>\n      <th>4</th>\n      <td>0</td>\n      <td>11</td>\n      <td>-2.369857</td>\n    </tr>\n  </tbody>\n</table>\n</div>"
     },
     "execution_count": 18,
     "metadata": {},
     "output_type": "execute_result"
    }
   ],
   "source": [
    "topic_coherence.head()"
   ],
   "metadata": {
    "collapsed": false,
    "pycharm": {
     "name": "#%%\n"
    }
   }
  },
  {
   "cell_type": "code",
   "execution_count": 19,
   "outputs": [
    {
     "data": {
      "text/plain": "<Figure size 432x288 with 1 Axes>",
      "image/png": "[encoded data removed]"
     },
     "metadata": {
      "needs_background": "light"
     },
     "output_type": "display_data"
    }
   ],
   "source": [
    "import seaborn as sns\n",
    "\n",
    "ax = sns.lineplot(x=\"num_topics\", y=\"coherence_score\", data=topic_coherence)\n"
   ],
   "metadata": {
    "collapsed": false,
    "pycharm": {
     "name": "#%%\n"
    }
   }
  },
  {
   "cell_type": "code",
   "execution_count": 20,
   "outputs": [],
   "source": [
    "lda = LdaMulticore(corpus=corpora,\n",
    "                   id2word=id2word,\n",
    "                   num_topics=3,\n",
    "                   passes=50,\n",
    "                   random_state=1337,\n",
    "                   workers=16)"
   ],
   "metadata": {
    "collapsed": false,
    "pycharm": {
     "name": "#%%\n"
    }
   }
  },
  {
   "cell_type": "code",
   "execution_count": 21,
   "outputs": [],
   "source": [
    "words = [re.findall('\"([^\"]*)\"',t[1]) for t in lda.print_topics()] # Lets use some boilerplate regex code :)\n",
    "topics = [' '.join(t[0:5]) for t in words]"
   ],
   "metadata": {
    "collapsed": false,
    "pycharm": {
     "name": "#%%\n"
    }
   }
  },
  {
   "cell_type": "code",
   "execution_count": 22,
   "outputs": [
    {
     "name": "stdout",
     "output_type": "stream",
     "text": [
      "------ Topic 0 ------\n",
      "tablet great good use read\n",
      "\n",
      "------ Topic 1 ------\n",
      "battery great good price work\n",
      "\n",
      "------ Topic 2 ------\n",
      "love tablet kid buy old\n",
      "\n"
     ]
    }
   ],
   "source": [
    "for id, t in enumerate(topics):\n",
    "    print(f\"------ Topic {id} ------\")\n",
    "    print(t, end=\"\\n\\n\")"
   ],
   "metadata": {
    "collapsed": false,
    "pycharm": {
     "name": "#%%\n"
    }
   }
  },
  {
   "cell_type": "code",
   "execution_count": 23,
   "outputs": [],
   "source": [
    "import pyLDAvis.gensim\n",
    "pyLDAvis.enable_notebook()"
   ],
   "metadata": {
    "collapsed": false,
    "pycharm": {
     "name": "#%%\n"
    }
   }
  },
  {
   "cell_type": "code",
   "execution_count": 24,
   "outputs": [
    {
     "data": {
      "text/plain": "PreparedData(topic_coordinates=              x         y  topics  cluster       Freq\ntopic                                                \n0      0.026503 -0.139102       1        1  36.595165\n1     -0.209426  0.055456       2        1  33.429806\n2      0.182922  0.083646       3        1  29.975023, topic_info=         Term         Freq        Total Category  logprob  loglift\n3     battery  9897.000000  9897.000000  Default  30.0000  30.0000\n84       love  6115.000000  6115.000000  Default  29.0000  29.0000\n2069   tablet  7182.000000  7182.000000  Default  28.0000  28.0000\n169       kid  2835.000000  2835.000000  Default  27.0000  27.0000\n481       old  2445.000000  2445.000000  Default  26.0000  26.0000\n...       ...          ...          ...      ...      ...      ...\n44    perfect   649.350525  1122.168701   Topic3  -4.9867   0.6578\n1785   kindle   693.411743  1348.208740   Topic3  -4.9211   0.5399\n13       like   708.513977  2817.197266   Topic3  -4.8995  -0.1755\n32       good   679.879028  7011.356445   Topic3  -4.9408  -1.1286\n35        lot   509.247955  1283.624146   Topic3  -5.2298   0.2803\n\n[230 rows x 6 columns], token_table=      Topic      Freq   Term\nterm                        \n2394      1  0.990837      $\n2394      3  0.006849      $\n194       1  0.015644      2\n194       2  0.286815      2\n194       3  0.696699      2\n...     ...       ...    ...\n96        2  0.074602   year\n96        3  0.920984   year\n857       2  0.003978  young\n857       3  0.994448  young\n1085      3  0.996912     yr\n\n[386 rows x 3 columns], R=30, lambda_step=0.01, plot_opts={'xlab': 'PC1', 'ylab': 'PC2'}, topic_order=[1, 2, 3])",
      "text/html": "\n<link rel=\"stylesheet\" type=\"text/css\" href=\"https://cdn.rawgit.com/bmabey/pyLDAvis/files/ldavis.v1.0.0.css\">\n\n\n<div id=\"ldavis_el270023229482687446906864256\"></div>\n<script type=\"text/javascript\">\n\nvar ldavis_el270023229482687446906864256_data = {\"mdsDat\": {\"x\": [0.026503394810300753, -0.20942587695724355, 0.1829224821469428], \"y\": [-0.13910185449464757, 0.055456291894697, 0.08364556259995067], \"topics\": [1, 2, 3], \"cluster\": [1, 1, 1], \"Freq\": [36.59516525268555, 33.429805755615234, 29.97502326965332]}, \"tinfo\": {\"Term\": [\"battery\", \"love\", \"tablet\", \"kid\", \"old\", \"long\", \"brand\", \"price\", \"year\", \"game\", \"work\", \"gift\", \"easy\", \"screen\", \"daughter\", \"good\", \"son\", \"Kindle\", \"read\", \"play\", \"child\", \"app\", \"buy\", \"Christmas\", \"book\", \"last\", \"Fire\", \"value\", \"Duracell\", \"remote\", \"speaker\", \"sound\", \"tap\", \"Alexa\", \"Echo\", \"reader\", \"button\", \"Voyage\", \"page\", \"stream\", \"eye\", \"Oasis\", \"magazine\", \"ebook\", \"voice\", \"Paperwhite\", \"echo\", \"paperwhite\", \"HD8\", \"e\", \"Black\", \"$\", \"black\", \"text\", \"Bluetooth\", \"purse\", \"Friday\", \"laptop\", \"Tap\", \"voyage\", \"email\", \"HD\", \"ad\", \"Google\", \"web\", \"resolution\", \"screen\", \"clear\", \"connect\", \"travel\", \"weight\", \"display\", \"Kindle\", \"music\", \"portable\", \"read\", \"Fire\", \"reading\", \"hd\", \"size\", \"picture\", \"book\", \"listen\", \"light\", \"nice\", \"look\", \"tablet\", \"want\", \"device\", \"small\", \"Amazon\", \"easy\", \"great\", \"feature\", \"good\", \"use\", \"like\", \"app\", \"fire\", \"fast\", \"price\", \"product\", \"need\", \"kindle\", \"work\", \"buy\", \"purchase\", \"well\", \"brand\", \"battery\", \"Duracell\", \"remote\", \"AA\", \"pack\", \"last\", \"AmazonBasics\", \"controller\", \"leak\", \"packaging\", \"aaa\", \"box\", \"energizer\", \"Basics\", \"dead\", \"flashlight\", \"mouse\", \"Energizer\", \"AAA\", \"alkaline\", \"package\", \"lasting\", \"bulk\", \"candle\", \"wrap\", \"rechargeable\", \"Batteries\", \"toy\", \"duracell\", \"long\", \"test\", \"half\", \"die\", \"power\", \"order\", \"week\", \"work\", \"price\", \"value\", \"longer\", \"cheap\", \"life\", \"deal\", \"good\", \"far\", \"great\", \"fine\", \"quality\", \"buy\", \"Amazon\", \"time\", \"product\", \"store\", \"like\", \"need\", \"purchase\", \"use\", \"lot\", \"come\", \"daughter\", \"grandson\", \"granddaughter\", \"parental\", \"friendly\", \"educational\", \"yr\", \"niece\", \"learning\", \"grandkid\", \"young\", \"birthday\", \"nephew\", \"parent\", \"age\", \"entertain\", \"grand\", \"gift\", \"Kids\", \"child\", \"appropriate\", \"adult\", \"bumper\", \"present\", \"protective\", \"mom\", \"protect\", \"busy\", \"durable\", \"grandchild\", \"son\", \"old\", \"kid\", \"drop\", \"game\", \"Christmas\", \"learn\", \"love\", \"year\", \"warranty\", \"play\", \"break\", \"tablet\", \"control\", \"buy\", \"2\", \"easy\", \"case\", \"use\", \"app\", \"get\", \"enjoy\", \"3\", \"purchase\", \"great\", \"set\", \"time\", \"perfect\", \"kindle\", \"like\", \"good\", \"lot\"], \"Freq\": [9897.0, 6115.0, 7182.0, 2835.0, 2445.0, 2613.0, 2243.0, 5314.0, 2251.0, 1896.0, 4533.0, 1140.0, 3235.0, 1582.0, 994.0, 7011.0, 1005.0, 1684.0, 2003.0, 1507.0, 906.0, 2217.0, 5665.0, 825.0, 1783.0, 700.0, 1129.0, 1103.0, 541.0, 540.0, 355.8783874511719, 456.929931640625, 233.3043670654297, 331.29852294921875, 204.17288208007812, 569.4754028320312, 288.9825439453125, 158.97898864746094, 293.9599304199219, 128.85028076171875, 154.79281616210938, 126.78085327148438, 97.76776123046875, 102.70584106445312, 92.7266616821289, 96.7083969116211, 90.71422576904297, 82.68545532226562, 119.5401611328125, 303.8436279296875, 114.52523040771484, 434.2464904785156, 163.2885284423828, 76.6497802734375, 87.58804321289062, 86.56534576416016, 165.18031311035156, 235.82135009765625, 72.61738586425781, 71.61534881591797, 256.4978942871094, 210.793701171875, 185.9219512939453, 305.1994323730469, 279.26025390625, 188.7692108154297, 1496.9736328125, 284.6993103027344, 195.5409393310547, 291.4924621582031, 192.7584228515625, 233.646728515625, 1529.4573974609375, 460.0711669921875, 209.09068298339844, 1701.030029296875, 987.0092163085938, 380.6156921386719, 283.254150390625, 898.3222045898438, 351.8124694824219, 1352.6007080078125, 213.11122131347656, 784.4685668945312, 851.83154296875, 645.4669799804688, 3235.03662109375, 841.62548828125, 875.4277954101562, 504.4986572265625, 1544.1190185546875, 1530.037353515625, 2845.021240234375, 521.9601440429688, 2273.010498046875, 1776.7109375, 1213.5018310546875, 1013.4064331054688, 657.738037109375, 534.7264404296875, 1520.6510009765625, 924.6588134765625, 776.4464721679688, 654.1073608398438, 824.6920776367188, 807.331787109375, 653.4804077148438, 538.9154663085938, 2242.613037109375, 9887.5869140625, 541.079345703125, 540.0247192382812, 442.1539306640625, 462.3948669433594, 698.848876953125, 301.98193359375, 230.51368713378906, 213.8707733154297, 249.02073669433594, 198.20864868164062, 513.4918212890625, 188.400634765625, 187.41555786132812, 181.55284118652344, 183.50515747070312, 187.39453125, 178.60304260253906, 173.71292114257812, 172.73306274414062, 386.2314147949219, 156.9964599609375, 158.88523864746094, 136.4519500732422, 133.5042724609375, 151.0386505126953, 120.80091094970703, 488.06817626953125, 114.92707824707031, 2554.3134765625, 238.27052307128906, 190.5416717529297, 233.40847778320312, 414.01202392578125, 556.4723510742188, 399.6665344238281, 3465.73681640625, 3722.146240234375, 894.1341552734375, 308.1279296875, 835.7000122070312, 793.609619140625, 716.52685546875, 4058.467041015625, 834.9668579101562, 4102.94677734375, 436.927490234375, 873.2269287109375, 2145.233642578125, 1356.8472900390625, 1098.428955078125, 960.2462158203125, 568.2081298828125, 895.1814575195312, 683.16455078125, 734.9522094726562, 911.3460693359375, 502.2469482421875, 487.32830810546875, 993.3776245117188, 471.4543762207031, 421.22894287109375, 398.577880859375, 403.0604248046875, 235.91647338867188, 228.98410034179688, 195.45346069335938, 190.5347442626953, 175.74566650390625, 250.3435516357422, 212.03903198242188, 166.8509521484375, 199.19573974609375, 333.5674133300781, 136.3205108642578, 161.80213928222656, 1132.9605712890625, 104.72509002685547, 899.2675170898438, 123.2424545288086, 191.6522674560547, 77.2026138305664, 168.97909545898438, 122.0428695678711, 242.109375, 114.12035369873047, 76.07302856445312, 344.2818298339844, 103.35858154296875, 993.9549560546875, 2392.89208984375, 2762.086181640625, 334.15264892578125, 1809.2354736328125, 799.9360961914062, 473.26629638671875, 5667.96826171875, 2074.35888671875, 280.6289367675781, 1220.6270751953125, 309.4869079589844, 3943.383544921875, 507.1555480957031, 2713.22998046875, 668.2616577148438, 1681.9254150390625, 597.3386840820312, 2130.224365234375, 1203.41162109375, 1023.3950805664062, 549.22412109375, 510.06170654296875, 1138.242431640625, 2361.22265625, 593.0250854492188, 981.1777954101562, 649.3505249023438, 693.4117431640625, 708.5139770507812, 679.8790283203125, 509.2479553222656], \"Total\": [9897.0, 6115.0, 7182.0, 2835.0, 2445.0, 2613.0, 2243.0, 5314.0, 2251.0, 1896.0, 4533.0, 1140.0, 3235.0, 1582.0, 994.0, 7011.0, 1005.0, 1684.0, 2003.0, 1507.0, 906.0, 2217.0, 5665.0, 825.0, 1783.0, 700.0, 1129.0, 1103.0, 541.0, 540.0, 356.6829833984375, 458.15673828125, 234.0909423828125, 332.55096435546875, 204.9513702392578, 571.6903076171875, 290.3465881347656, 159.7361297607422, 295.36962890625, 129.58775329589844, 155.7076416015625, 127.57974243164062, 98.44376373291016, 103.46345520019531, 93.41630554199219, 97.43566131591797, 91.40641784667969, 83.36996459960938, 120.53759765625, 306.4051818847656, 115.51366424560547, 438.0133972167969, 164.73558044433594, 77.33940124511719, 88.3860092163086, 87.38204956054688, 166.74859619140625, 238.07662963867188, 73.31816101074219, 72.31553649902344, 259.1741943359375, 212.96080017089844, 187.84182739257812, 310.3735046386719, 284.2496643066406, 191.8409881591797, 1582.9539794921875, 291.2244567871094, 198.86599731445312, 301.2379150390625, 196.8202667236328, 240.00282287597656, 1684.1280517578125, 485.8177490234375, 214.8638458251953, 2003.80029296875, 1129.6845703125, 409.388916015625, 298.1253662109375, 1054.3038330078125, 380.23974609375, 1783.3360595703125, 219.90005493164062, 1028.757568359375, 1234.9774169921875, 889.626220703125, 7182.1845703125, 1262.793701171875, 1356.2916259765625, 659.4059448242188, 3167.5625, 3235.8330078125, 9309.1904296875, 725.5761108398438, 7011.3564453125, 4818.28125, 2817.197265625, 2217.65771484375, 1093.9013671875, 793.2852783203125, 5314.3681640625, 2369.654296875, 1826.350830078125, 1348.208740234375, 4533.85546875, 5665.79541015625, 2526.675048828125, 1083.7569580078125, 2243.645751953125, 9897.71484375, 541.803955078125, 540.8221435546875, 442.8475341796875, 463.4228820800781, 700.5364379882812, 302.7405700683594, 231.21900939941406, 214.5638885498047, 249.83575439453125, 198.88735961914062, 515.3631591796875, 189.0902557373047, 188.1099853515625, 182.23049926757812, 184.19105529785156, 188.10635375976562, 179.29263305664062, 174.39366149902344, 173.41412353515625, 387.9989013671875, 157.7364501953125, 159.69007873535156, 137.15914916992188, 134.21926879882812, 151.8578338623047, 121.48688507080078, 490.86260986328125, 115.60795593261719, 2613.221435546875, 240.0552215576172, 192.0275421142578, 236.15284729003906, 431.4857177734375, 613.6874389648438, 432.826171875, 4533.85546875, 5314.3681640625, 1103.4697265625, 332.354248046875, 1036.3314208984375, 985.1688232421875, 883.7786254882812, 7011.3564453125, 1228.6165771484375, 9309.1904296875, 547.4259033203125, 1364.2293701171875, 5665.79541015625, 3167.5625, 2403.8212890625, 2369.654296875, 1031.51171875, 2817.197265625, 1826.350830078125, 2526.675048828125, 4818.28125, 1283.6241455078125, 1089.104248046875, 994.7811889648438, 472.2466125488281, 421.96514892578125, 399.28955078125, 404.2170104980469, 236.6131591796875, 229.70928955078125, 196.18797302246094, 191.2580108642578, 176.46730041503906, 251.3957061767578, 212.94346618652344, 167.59495544433594, 200.12538146972656, 335.1924743652344, 137.03311157226562, 162.66412353515625, 1140.8055419921875, 105.48060607910156, 906.06396484375, 124.2102279663086, 193.2392120361328, 77.8785400390625, 170.5544891357422, 123.21846008300781, 244.51768493652344, 115.33928680419922, 76.88558959960938, 348.0106201171875, 104.489990234375, 1005.5739135742188, 2445.978759765625, 2835.178466796875, 339.1861267089844, 1896.454345703125, 825.0626220703125, 485.2490539550781, 6115.095703125, 2251.938232421875, 291.0050048828125, 1507.7216796875, 340.4810791015625, 7182.1845703125, 636.459228515625, 5665.79541015625, 958.8074951171875, 3235.8330078125, 840.786376953125, 4818.28125, 2217.65771484375, 1846.818603515625, 781.2164306640625, 706.146484375, 2526.675048828125, 9309.1904296875, 907.490234375, 2403.8212890625, 1122.168701171875, 1348.208740234375, 2817.197265625, 7011.3564453125, 1283.6241455078125], \"Category\": [\"Default\", \"Default\", \"Default\", \"Default\", \"Default\", \"Default\", \"Default\", \"Default\", \"Default\", \"Default\", \"Default\", \"Default\", \"Default\", \"Default\", \"Default\", \"Default\", \"Default\", \"Default\", \"Default\", \"Default\", \"Default\", \"Default\", \"Default\", \"Default\", \"Default\", \"Default\", \"Default\", \"Default\", \"Default\", \"Default\", \"Topic1\", \"Topic1\", \"Topic1\", \"Topic1\", \"Topic1\", \"Topic1\", \"Topic1\", \"Topic1\", \"Topic1\", \"Topic1\", \"Topic1\", \"Topic1\", \"Topic1\", \"Topic1\", \"Topic1\", \"Topic1\", \"Topic1\", \"Topic1\", \"Topic1\", \"Topic1\", \"Topic1\", \"Topic1\", \"Topic1\", \"Topic1\", \"Topic1\", \"Topic1\", \"Topic1\", \"Topic1\", \"Topic1\", \"Topic1\", \"Topic1\", \"Topic1\", \"Topic1\", \"Topic1\", \"Topic1\", \"Topic1\", \"Topic1\", \"Topic1\", \"Topic1\", \"Topic1\", \"Topic1\", \"Topic1\", \"Topic1\", \"Topic1\", \"Topic1\", \"Topic1\", \"Topic1\", \"Topic1\", \"Topic1\", \"Topic1\", \"Topic1\", \"Topic1\", \"Topic1\", \"Topic1\", \"Topic1\", \"Topic1\", \"Topic1\", \"Topic1\", \"Topic1\", \"Topic1\", \"Topic1\", \"Topic1\", \"Topic1\", \"Topic1\", \"Topic1\", \"Topic1\", \"Topic1\", \"Topic1\", \"Topic1\", \"Topic1\", \"Topic1\", \"Topic1\", \"Topic1\", \"Topic1\", \"Topic1\", \"Topic1\", \"Topic1\", \"Topic1\", \"Topic2\", \"Topic2\", \"Topic2\", \"Topic2\", \"Topic2\", \"Topic2\", \"Topic2\", \"Topic2\", \"Topic2\", \"Topic2\", \"Topic2\", \"Topic2\", \"Topic2\", \"Topic2\", \"Topic2\", \"Topic2\", \"Topic2\", \"Topic2\", \"Topic2\", \"Topic2\", \"Topic2\", \"Topic2\", \"Topic2\", \"Topic2\", \"Topic2\", \"Topic2\", \"Topic2\", \"Topic2\", \"Topic2\", \"Topic2\", \"Topic2\", \"Topic2\", \"Topic2\", \"Topic2\", \"Topic2\", \"Topic2\", \"Topic2\", \"Topic2\", \"Topic2\", \"Topic2\", \"Topic2\", \"Topic2\", \"Topic2\", \"Topic2\", \"Topic2\", \"Topic2\", \"Topic2\", \"Topic2\", \"Topic2\", \"Topic2\", \"Topic2\", \"Topic2\", \"Topic2\", \"Topic2\", \"Topic2\", \"Topic2\", \"Topic2\", \"Topic2\", \"Topic2\", \"Topic2\", \"Topic3\", \"Topic3\", \"Topic3\", \"Topic3\", \"Topic3\", \"Topic3\", \"Topic3\", \"Topic3\", \"Topic3\", \"Topic3\", \"Topic3\", \"Topic3\", \"Topic3\", \"Topic3\", \"Topic3\", \"Topic3\", \"Topic3\", \"Topic3\", \"Topic3\", \"Topic3\", \"Topic3\", \"Topic3\", \"Topic3\", \"Topic3\", \"Topic3\", \"Topic3\", \"Topic3\", \"Topic3\", \"Topic3\", \"Topic3\", \"Topic3\", \"Topic3\", \"Topic3\", \"Topic3\", \"Topic3\", \"Topic3\", \"Topic3\", \"Topic3\", \"Topic3\", \"Topic3\", \"Topic3\", \"Topic3\", \"Topic3\", \"Topic3\", \"Topic3\", \"Topic3\", \"Topic3\", \"Topic3\", \"Topic3\", \"Topic3\", \"Topic3\", \"Topic3\", \"Topic3\", \"Topic3\", \"Topic3\", \"Topic3\", \"Topic3\", \"Topic3\", \"Topic3\", \"Topic3\", \"Topic3\", \"Topic3\"], \"logprob\": [30.0, 29.0, 28.0, 27.0, 26.0, 25.0, 24.0, 23.0, 22.0, 21.0, 20.0, 19.0, 18.0, 17.0, 16.0, 15.0, 14.0, 13.0, 12.0, 11.0, 10.0, 9.0, 8.0, 7.0, 6.0, 5.0, 4.0, 3.0, 2.0, 1.0, -5.787700176239014, -5.537700176239014, -6.20989990234375, -5.8592000007629395, -6.343299865722656, -5.317599773406982, -5.9959001541137695, -6.593500137329102, -5.978799819946289, -6.803599834442139, -6.620200157165527, -6.819799900054932, -7.079699993133545, -7.030399799346924, -7.132599830627441, -7.09060001373291, -7.154600143432617, -7.247200012207031, -6.878600120544434, -5.945799827575684, -6.921500205993652, -5.588699817657471, -6.566699981689453, -7.322999954223633, -7.189599990844727, -7.201399803161621, -6.555200099945068, -6.19920015335083, -7.377099990844727, -7.390999794006348, -6.115099906921387, -6.311399936676025, -6.4369001388549805, -5.941299915313721, -6.030099868774414, -6.4217000007629395, -4.351099967956543, -6.010799884796143, -6.386499881744385, -5.987299919128418, -6.4008002281188965, -6.208499908447266, -4.329599857330322, -5.530900001525879, -6.319499969482422, -4.223299980163574, -4.767600059509277, -5.7204999923706055, -6.015900135040283, -4.861700057983398, -5.799200057983398, -4.452499866485596, -6.30049991607666, -4.997300148010254, -4.914899826049805, -5.192299842834473, -3.5804998874664307, -4.9268999099731445, -4.887599945068359, -5.438700199127197, -4.320099830627441, -4.32919979095459, -3.708899974822998, -5.404699802398682, -3.9333999156951904, -4.179699897766113, -4.560999870300293, -4.741199970245361, -5.173500061035156, -5.380499839782715, -4.335400104522705, -4.832799911499023, -5.007500171661377, -5.178999900817871, -4.947299957275391, -4.968500137329102, -5.179999828338623, -5.372700214385986, -3.8564000129699707, -2.37280011177063, -5.278200149536133, -5.280200004577637, -5.480100154876709, -5.435400009155273, -5.02239990234375, -5.861400127410889, -6.131499767303467, -6.206399917602539, -6.054299831390381, -6.28249979019165, -5.330599784851074, -6.333199977874756, -6.338500022888184, -6.370299816131592, -6.359600067138672, -6.338600158691406, -6.386600017547607, -6.414400100708008, -6.420100212097168, -5.6153998374938965, -6.515600204467773, -6.503600120544434, -6.655799865722656, -6.677700042724609, -6.554299831390381, -6.777699947357178, -5.38129997253418, -6.827499866485596, -3.726300001144409, -6.098400115966797, -6.321899890899658, -6.11899995803833, -5.545899868011475, -5.250199794769287, -5.581200122833252, -3.421099901199341, -3.3496999740600586, -4.775899887084961, -5.841300010681152, -4.843500137329102, -4.895199775695801, -4.997399806976318, -3.263200044631958, -4.844399929046631, -3.2523000240325928, -5.492000102996826, -4.799600124359131, -3.9007999897003174, -4.35890007019043, -4.570199966430664, -4.704599857330322, -5.229300022125244, -4.774799823760986, -5.045100212097168, -4.9720001220703125, -4.756899833679199, -5.352700233459473, -5.382900238037109, -4.561600208282471, -5.3069000244140625, -5.41949987411499, -5.474800109863281, -5.463600158691406, -5.999199867248535, -6.029099941253662, -6.187399864196777, -6.212900161743164, -6.293700218200684, -5.939899921417236, -6.105899810791016, -6.345600128173828, -6.168399810791016, -5.652900218963623, -6.547699928283691, -6.376299858093262, -4.430099964141846, -6.811399936676025, -4.661099910736084, -6.648600101470947, -6.206999778747559, -7.116300106048584, -6.332900047302246, -6.658299922943115, -5.973299980163574, -6.725500106811523, -7.13100004196167, -5.621300220489502, -6.82450008392334, -4.560999870300293, -3.682499885559082, -3.5390000343322754, -5.651100158691406, -3.962100028991699, -4.778200149536133, -5.303100109100342, -2.8201000690460205, -3.8252999782562256, -5.825699806213379, -4.355599880218506, -5.727799892425537, -3.1828999519348145, -5.23390007019043, -3.55679988861084, -4.958000183105469, -4.034999847412109, -5.070199966430664, -3.7987000942230225, -4.369800090789795, -4.531799793243408, -5.154200077056885, -5.2281999588012695, -4.42549991607666, -3.6958000659942627, -5.077499866485596, -4.573999881744385, -4.986700057983398, -4.92110013961792, -4.899499893188477, -4.940800189971924, -5.229800224304199], \"loglift\": [30.0, 29.0, 28.0, 27.0, 26.0, 25.0, 24.0, 23.0, 22.0, 21.0, 20.0, 19.0, 18.0, 17.0, 16.0, 15.0, 14.0, 13.0, 12.0, 11.0, 10.0, 9.0, 8.0, 7.0, 6.0, 5.0, 4.0, 3.0, 2.0, 1.0, 1.003000020980835, 1.0025999546051025, 1.0018999576568604, 1.0015000104904175, 1.0013999938964844, 1.0013999938964844, 1.000499963760376, 1.000499963760376, 1.000499963760376, 0.9994999766349792, 0.9994000196456909, 0.9990000128746033, 0.9983999729156494, 0.9979000091552734, 0.9977999925613403, 0.9977999925613403, 0.9976999759674072, 0.996999979019165, 0.9969000220298767, 0.9969000220298767, 0.9966999888420105, 0.9965999722480774, 0.996399998664856, 0.9962999820709229, 0.9962000250816345, 0.9958999752998352, 0.9958000183105469, 0.9957000017166138, 0.9955999851226807, 0.9955000281333923, 0.9948999881744385, 0.9950000047683716, 0.9950000047683716, 0.9883999824523926, 0.987500011920929, 0.9890999794006348, 0.949400007724762, 0.9825999736785889, 0.9883999824523926, 0.9724000096321106, 0.9843999743461609, 0.9783999919891357, 0.9089000225067139, 0.9508000016212463, 0.9779999852180481, 0.8414000272750854, 0.870199978351593, 0.9323999881744385, 0.9541000127792358, 0.8450999855995178, 0.9276000261306763, 0.7287999987602234, 0.9739000201225281, 0.7342000007629395, 0.6338000297546387, 0.6844000220298767, 0.2076999992132187, 0.5995000004768372, 0.5674999952316284, 0.737500011920929, 0.2867000102996826, 0.2563000023365021, -0.18019999563694, 0.6758999824523926, -0.12120000272989273, 0.007600000128149986, 0.16300000250339508, 0.22210000455379486, 0.4966000020503998, 0.61080002784729, -0.2460000067949295, 0.06419999897480011, 0.14990000426769257, 0.28200000524520874, -0.6991000175476074, -0.9431999921798706, -0.34709998965263367, 0.30660000443458557, 1.0952999591827393, 1.0946999788284302, 1.0944000482559204, 1.0942000150680542, 1.0942000150680542, 1.093500018119812, 1.0932999849319458, 1.0931999683380127, 1.0927000045776367, 1.0924999713897705, 1.0924999713897705, 1.0923000574111938, 1.0921000242233276, 1.0921000242233276, 1.0920000076293945, 1.0920000076293945, 1.0920000076293945, 1.0918999910354614, 1.0918999910354614, 1.0917999744415283, 1.0917999744415283, 1.0911999940872192, 1.090999960899353, 1.0907000303268433, 1.0906000137329102, 1.090399980545044, 1.0902999639511108, 1.0901000499725342, 1.090000033378601, 1.0898000001907349, 1.0729000568389893, 1.0882999897003174, 1.0880000591278076, 1.0839999914169312, 1.0543999671936035, 0.9979000091552734, 1.0160000324249268, 0.8270999789237976, 0.7396000027656555, 0.8853999972343445, 1.0199999809265137, 0.8805000185966492, 0.8794999718666077, 0.8859000205993652, 0.5490000247955322, 0.7095000147819519, 0.27639999985694885, 0.8702999949455261, 0.6496000289916992, 0.12449999898672104, 0.24789999425411224, 0.3125, 0.1923999935388565, 0.49939998984336853, -0.050700001418590546, 0.11240000277757645, -0.13910000026226044, -0.5695000290870667, 0.1573999971151352, 0.2915000021457672, 1.2034000158309937, 1.2030999660491943, 1.2030999660491943, 1.2029999494552612, 1.2019000053405762, 1.2019000053405762, 1.2015999555587769, 1.2010999917984009, 1.2009999752044678, 1.200700044631958, 1.200600028038025, 1.2005000114440918, 1.2003999948501587, 1.2000999450683594, 1.1999000310897827, 1.1995999813079834, 1.1994999647140503, 1.1979000568389893, 1.19760000705719, 1.1972999572753906, 1.1970000267028809, 1.1965999603271484, 1.1960999965667725, 1.1955000162124634, 1.195199966430664, 1.1949000358581543, 1.194200038909912, 1.194200038909912, 1.194000005722046, 1.1938999891281128, 1.1931999921798706, 1.1828999519348145, 1.1786999702453613, 1.1899000406265259, 1.1576999425888062, 1.1739000082015991, 1.179800033569336, 1.1289000511169434, 1.1226999759674072, 1.1684999465942383, 0.9936000108718872, 1.1094000339508057, 0.6051999926567078, 0.9776999950408936, 0.4684999883174896, 0.8438000082969666, 0.5504999756813049, 0.8629999756813049, 0.3885999917984009, 0.593500018119812, 0.6144999861717224, 0.8525000214576721, 0.8794999718666077, 0.4074000120162964, -0.16699999570846558, 0.7793999910354614, 0.30869999527931213, 0.657800018787384, 0.539900004863739, -0.17550000548362732, -1.128600001335144, 0.28029999136924744]}, \"token.table\": {\"Topic\": [1, 3, 1, 2, 3, 1, 2, 3, 2, 2, 1, 2, 3, 1, 2, 3, 2, 2, 2, 1, 3, 1, 1, 2, 3, 2, 1, 2, 1, 2, 3, 1, 3, 1, 3, 1, 3, 1, 3, 3, 1, 2, 3, 1, 1, 1, 1, 2, 1, 3, 1, 3, 2, 3, 2, 1, 2, 3, 2, 3, 1, 2, 3, 2, 3, 1, 2, 3, 1, 2, 3, 1, 2, 3, 1, 2, 3, 1, 2, 3, 2, 3, 3, 1, 2, 1, 2, 3, 2, 1, 2, 3, 1, 2, 3, 1, 2, 3, 1, 2, 3, 1, 2, 3, 1, 2, 3, 1, 2, 3, 2, 2, 3, 2, 1, 2, 3, 1, 2, 3, 1, 2, 3, 1, 2, 3, 1, 2, 3, 1, 2, 3, 2, 1, 3, 1, 2, 3, 1, 1, 3, 1, 3, 2, 1, 2, 3, 3, 1, 1, 2, 3, 1, 2, 3, 1, 2, 3, 1, 2, 3, 1, 2, 3, 2, 1, 3, 1, 2, 3, 1, 2, 3, 1, 2, 3, 1, 2, 3, 2, 3, 2, 3, 3, 3, 3, 1, 2, 3, 1, 2, 3, 1, 3, 1, 2, 3, 1, 2, 3, 1, 2, 3, 1, 2, 3, 2, 2, 1, 2, 3, 3, 1, 2, 3, 1, 2, 3, 1, 2, 3, 1, 3, 1, 2, 3, 1, 2, 3, 1, 2, 3, 1, 2, 3, 1, 2, 3, 1, 1, 2, 3, 2, 1, 3, 1, 2, 3, 3, 1, 2, 3, 3, 1, 2, 3, 1, 2, 3, 1, 2, 1, 2, 2, 1, 2, 1, 3, 3, 1, 2, 3, 1, 2, 3, 1, 2, 3, 1, 2, 3, 1, 2, 3, 1, 2, 3, 1, 2, 3, 1, 2, 3, 1, 3, 2, 3, 1, 2, 3, 1, 1, 2, 3, 1, 2, 3, 1, 3, 1, 2, 3, 2, 2, 1, 3, 1, 2, 3, 1, 2, 3, 1, 2, 3, 1, 2, 3, 1, 2, 3, 1, 2, 1, 1, 2, 3, 1, 1, 2, 3, 1, 1, 2, 1, 1, 2, 3, 2, 3, 1, 3, 1, 2, 3, 1, 2, 3, 1, 1, 1, 2, 3, 1, 3, 1, 3, 1, 2, 3, 1, 2, 3, 1, 2, 3, 1, 2, 3, 2, 1, 2, 3, 2, 3, 3], \"Freq\": [0.9908372759819031, 0.006849105469882488, 0.015644432976841927, 0.2868146002292633, 0.696698784828186, 0.02832273580133915, 0.24924007058143616, 0.7222297787666321, 0.998086154460907, 0.9977427124977112, 0.9953361749649048, 0.003007057821378112, 0.003007057821378112, 0.4874410629272461, 0.42840513586997986, 0.08429194241762161, 0.9975537657737732, 0.9940992593765259, 0.9959923028945923, 0.995553195476532, 0.008656984195113182, 0.9956327080726624, 0.0012120292522013187, 0.0290887001901865, 0.9696233868598938, 0.9985161423683167, 0.9953580498695374, 0.9983678460121155, 0.8736951947212219, 0.00088520284043625, 0.12569880485534668, 0.9895135760307312, 0.005997051950544119, 0.9826869964599609, 0.01610962301492691, 0.9907926917076111, 0.009391400031745434, 0.9955400228500366, 0.00829616654664278, 0.9954436421394348, 0.9078882336616516, 0.000593779084738344, 0.09144198149442673, 0.9954558610916138, 0.9955287575721741, 0.9956605434417725, 0.9953916072845459, 0.9955383539199829, 0.9901947975158691, 0.0053236279636621475, 0.00517493300139904, 0.9935871362686157, 0.0029833605512976646, 0.996442437171936, 0.997611939907074, 0.45678824186325073, 0.0004509262216743082, 0.5424642562866211, 0.008050866425037384, 0.9902566075325012, 0.0009093008120544255, 0.9990184903144836, 0.00020206684712320566, 0.0046960823237895966, 0.9955694079399109, 0.9894644618034363, 0.006070333998650312, 0.006070333998650312, 0.7586904168128967, 0.0005607468192465603, 0.24112112820148468, 0.001940379268489778, 0.9954145550727844, 0.001940379268489778, 0.0004457031609490514, 0.9997121691703796, 0.0004457031609490514, 0.06755147874355316, 0.023496165871620178, 0.907539427280426, 0.9956786632537842, 0.98871910572052, 0.9884817004203796, 0.9953621625900269, 0.00344415963627398, 0.14243365824222565, 0.37858763337135315, 0.47883832454681396, 0.9915488958358765, 0.2509555518627167, 0.03805960714817047, 0.710049569606781, 0.17658443748950958, 0.8066917657852173, 0.01640401780605316, 0.0033110245130956173, 0.0044146995060145855, 0.9922036528587341, 0.9786266088485718, 0.013735109940171242, 0.010301332920789719, 0.18271896243095398, 0.44715645909309387, 0.37002885341644287, 0.9855883121490479, 0.005028511863201857, 0.015085535123944283, 0.025139080360531807, 0.1775447577238083, 0.7965946197509766, 0.9990528225898743, 0.0010052461875602603, 0.9982094764709473, 0.9987351298332214, 0.17764629423618317, 0.8112891316413879, 0.011315050534904003, 0.6451414823532104, 0.23372554779052734, 0.12091794610023499, 0.008469090797007084, 0.9866490960121155, 0.004234545398503542, 0.9749885201454163, 0.004166617523878813, 0.02083308808505535, 0.01179293543100357, 0.005896467715501785, 0.9847100973129272, 0.00287347543053329, 0.0086204269900918, 0.9884755611419678, 0.9947412014007568, 0.9921503067016602, 0.006527304649353027, 0.47283032536506653, 0.007416946347802877, 0.5198042988777161, 0.9955205917358398, 0.995553731918335, 0.9974086284637451, 0.9877526760101318, 0.007716817781329155, 0.9942342042922974, 0.29569271206855774, 0.0012800550321117043, 0.7027502059936523, 0.9924608469009399, 0.9954553246498108, 0.2352239191532135, 0.6796261668205261, 0.08464805036783218, 0.6744105815887451, 0.30758166313171387, 0.017648126929998398, 0.719428300857544, 0.0013782151509076357, 0.2797776758670807, 0.19728697836399078, 0.7982815504074097, 0.0036534625105559826, 0.6015167832374573, 0.001828318345360458, 0.3976592421531677, 0.9989627599716187, 0.0024739187210798264, 0.9969891905784607, 0.04376588389277458, 0.002109199296683073, 0.9538853168487549, 0.24420373141765594, 0.2019689381122589, 0.5539255738258362, 0.005259441677480936, 0.0008765735547058284, 0.9931578636169434, 0.32418835163116455, 0.5787752866744995, 0.09698551148176193, 0.006147637031972408, 0.9959172010421753, 0.009570294991135597, 0.9857403635978699, 0.9977127313613892, 0.9973519444465637, 0.9973602294921875, 0.3056119680404663, 0.4407472312450409, 0.25362032651901245, 0.0052075861021876335, 0.9946489930152893, 0.0052075861021876335, 0.9492650628089905, 0.04696011170744896, 0.002116268966346979, 0.023631669580936432, 0.9741891026496887, 0.4850880801677704, 0.0007417249144054949, 0.5140153765678406, 0.9912774562835693, 0.004200328141450882, 0.008400656282901764, 0.0014274774584919214, 0.9978067874908447, 0.0014274774584919214, 0.9953311085700989, 0.9973719120025635, 0.02266877144575119, 0.002060797531157732, 0.974757194519043, 0.9986509680747986, 0.17763452231884003, 0.8059532642364502, 0.01725592650473118, 0.7620843052864075, 0.2284308820962906, 0.008748416788876057, 0.43092474341392517, 0.3176916241645813, 0.2516685724258423, 0.9686218500137329, 0.027285123243927956, 0.01722012460231781, 0.9773377776145935, 0.005357372108846903, 0.015044189058244228, 0.92672199010849, 0.05716791749000549, 0.7250235676765442, 0.16861014068126678, 0.10566235333681107, 0.2119000405073166, 0.39108020067214966, 0.3965335190296173, 0.06590248644351959, 0.007195308338850737, 0.9268865585327148, 0.9954922199249268, 0.008179367519915104, 0.004089683759957552, 0.9897034764289856, 0.9941184520721436, 0.9468571543693542, 0.051459625363349915, 0.42489099502563477, 0.37396976351737976, 0.20094715058803558, 0.9964500665664673, 0.6898911595344543, 0.20486204326152802, 0.10526508092880249, 0.9939447045326233, 0.02044171467423439, 0.001226502936333418, 0.9783404469490051, 0.08799267560243607, 0.9059986472129822, 0.004888481926172972, 0.0021578562445938587, 0.9969296455383301, 0.0025773269589990377, 0.9948481917381287, 0.9966548085212708, 0.9953629970550537, 0.003385588526725769, 0.9955623745918274, 0.9943765997886658, 0.9992748498916626, 0.39298903942108154, 0.027625080198049545, 0.5783444046974182, 0.9257317185401917, 0.007889758795499802, 0.06837791204452515, 0.18504741787910461, 0.005306018982082605, 0.8098311424255371, 0.9727090001106262, 0.02327055111527443, 0.0046541099436581135, 0.03939875587821007, 0.959475576877594, 0.0023175738751888275, 0.005863228812813759, 0.005863228812813759, 0.9908856749534607, 0.2862052321434021, 0.7003654837608337, 0.013548176735639572, 0.3903523087501526, 0.40512239933013916, 0.2046712040901184, 0.008670073002576828, 0.9883882999420166, 0.008115666918456554, 0.9901114106178284, 0.25844240188598633, 0.29089611768722534, 0.45039427280426025, 0.9956278204917908, 0.3577111065387726, 0.6399217247962952, 0.0021990437526255846, 0.8488869667053223, 0.0029943103436380625, 0.14771930873394012, 0.9952940940856934, 0.003498397534713149, 0.9306553602218628, 0.0024426651652902365, 0.06839462369680405, 0.9943510890007019, 0.9984798431396484, 0.9851909279823303, 0.015637950971722603, 0.9457002878189087, 0.000631730305030942, 0.05369707569479942, 0.19394147396087646, 0.15206775069236755, 0.6534505486488342, 0.8517468571662903, 0.11287068575620651, 0.0350942462682724, 0.7643243074417114, 0.18349850177764893, 0.05004504323005676, 0.0009944569319486618, 0.009944570250809193, 0.9884902238845825, 0.9974752068519592, 0.002182659227401018, 0.9980852007865906, 0.4013526737689972, 0.5506481528282166, 0.047503095120191574, 0.9954644441604614, 0.4504200518131256, 0.0005569336353801191, 0.5489972829818726, 0.9953396916389465, 0.004165708087384701, 0.9914385676383972, 0.9956115484237671, 0.13478539884090424, 0.45677271485328674, 0.4081002175807953, 0.994168221950531, 0.0040744598954916, 0.9660138487815857, 0.029876716434955597, 0.3688037097454071, 0.18907156586647034, 0.44206634163856506, 0.18849633634090424, 0.8101717233657837, 0.001812464790418744, 0.9955435395240784, 0.9956366419792175, 0.6667755842208862, 0.026132535189390182, 0.30725526809692383, 0.03436366841197014, 0.9656191468238831, 0.9815315008163452, 0.017590170726180077, 0.07162228971719742, 0.92415851354599, 0.004620792809873819, 0.9805900454521179, 0.02032311074435711, 0.005080777686089277, 0.4973439872264862, 0.4364447295665741, 0.0664355605840683, 0.18196433782577515, 0.7644707560539246, 0.05359676852822304, 0.9983663558959961, 0.004440619144588709, 0.0746024027466774, 0.9209843873977661, 0.003977792803198099, 0.994448184967041, 0.9969122409820557], \"Term\": [\"$\", \"$\", \"2\", \"2\", \"2\", \"3\", \"3\", \"3\", \"AA\", \"AAA\", \"Alexa\", \"Alexa\", \"Alexa\", \"Amazon\", \"Amazon\", \"Amazon\", \"AmazonBasics\", \"Basics\", \"Batteries\", \"Black\", \"Black\", \"Bluetooth\", \"Christmas\", \"Christmas\", \"Christmas\", \"Duracell\", \"Echo\", \"Energizer\", \"Fire\", \"Fire\", \"Fire\", \"Friday\", \"Friday\", \"Google\", \"Google\", \"HD\", \"HD\", \"HD8\", \"HD8\", \"Kids\", \"Kindle\", \"Kindle\", \"Kindle\", \"Oasis\", \"Paperwhite\", \"Tap\", \"Voyage\", \"aaa\", \"ad\", \"ad\", \"adult\", \"adult\", \"age\", \"age\", \"alkaline\", \"app\", \"app\", \"app\", \"appropriate\", \"appropriate\", \"battery\", \"battery\", \"battery\", \"birthday\", \"birthday\", \"black\", \"black\", \"black\", \"book\", \"book\", \"book\", \"box\", \"box\", \"box\", \"brand\", \"brand\", \"brand\", \"break\", \"break\", \"break\", \"bulk\", \"bumper\", \"busy\", \"button\", \"button\", \"buy\", \"buy\", \"buy\", \"candle\", \"case\", \"case\", \"case\", \"cheap\", \"cheap\", \"cheap\", \"child\", \"child\", \"child\", \"clear\", \"clear\", \"clear\", \"come\", \"come\", \"come\", \"connect\", \"connect\", \"connect\", \"control\", \"control\", \"control\", \"controller\", \"daughter\", \"daughter\", \"dead\", \"deal\", \"deal\", \"deal\", \"device\", \"device\", \"device\", \"die\", \"die\", \"die\", \"display\", \"display\", \"display\", \"drop\", \"drop\", \"drop\", \"durable\", \"durable\", \"durable\", \"duracell\", \"e\", \"e\", \"easy\", \"easy\", \"easy\", \"ebook\", \"echo\", \"educational\", \"email\", \"email\", \"energizer\", \"enjoy\", \"enjoy\", \"enjoy\", \"entertain\", \"eye\", \"far\", \"far\", \"far\", \"fast\", \"fast\", \"fast\", \"feature\", \"feature\", \"feature\", \"fine\", \"fine\", \"fine\", \"fire\", \"fire\", \"fire\", \"flashlight\", \"friendly\", \"friendly\", \"game\", \"game\", \"game\", \"get\", \"get\", \"get\", \"gift\", \"gift\", \"gift\", \"good\", \"good\", \"good\", \"grand\", \"grand\", \"grandchild\", \"grandchild\", \"granddaughter\", \"grandkid\", \"grandson\", \"great\", \"great\", \"great\", \"half\", \"half\", \"half\", \"hd\", \"hd\", \"kid\", \"kid\", \"kid\", \"kindle\", \"kindle\", \"kindle\", \"laptop\", \"laptop\", \"laptop\", \"last\", \"last\", \"last\", \"lasting\", \"leak\", \"learn\", \"learn\", \"learn\", \"learning\", \"life\", \"life\", \"life\", \"light\", \"light\", \"light\", \"like\", \"like\", \"like\", \"listen\", \"listen\", \"long\", \"long\", \"long\", \"longer\", \"longer\", \"longer\", \"look\", \"look\", \"look\", \"lot\", \"lot\", \"lot\", \"love\", \"love\", \"love\", \"magazine\", \"mom\", \"mom\", \"mom\", \"mouse\", \"music\", \"music\", \"need\", \"need\", \"need\", \"nephew\", \"nice\", \"nice\", \"nice\", \"niece\", \"old\", \"old\", \"old\", \"order\", \"order\", \"order\", \"pack\", \"pack\", \"package\", \"package\", \"packaging\", \"page\", \"page\", \"paperwhite\", \"parent\", \"parental\", \"perfect\", \"perfect\", \"perfect\", \"picture\", \"picture\", \"picture\", \"play\", \"play\", \"play\", \"portable\", \"portable\", \"portable\", \"power\", \"power\", \"power\", \"present\", \"present\", \"present\", \"price\", \"price\", \"price\", \"product\", \"product\", \"product\", \"protect\", \"protect\", \"protective\", \"protective\", \"purchase\", \"purchase\", \"purchase\", \"purse\", \"quality\", \"quality\", \"quality\", \"read\", \"read\", \"read\", \"reader\", \"reader\", \"reading\", \"reading\", \"reading\", \"rechargeable\", \"remote\", \"resolution\", \"resolution\", \"screen\", \"screen\", \"screen\", \"set\", \"set\", \"set\", \"size\", \"size\", \"size\", \"small\", \"small\", \"small\", \"son\", \"son\", \"son\", \"sound\", \"sound\", \"speaker\", \"store\", \"store\", \"store\", \"stream\", \"tablet\", \"tablet\", \"tablet\", \"tap\", \"test\", \"test\", \"text\", \"time\", \"time\", \"time\", \"toy\", \"toy\", \"travel\", \"travel\", \"use\", \"use\", \"use\", \"value\", \"value\", \"value\", \"voice\", \"voyage\", \"want\", \"want\", \"want\", \"warranty\", \"warranty\", \"web\", \"web\", \"week\", \"week\", \"week\", \"weight\", \"weight\", \"weight\", \"well\", \"well\", \"well\", \"work\", \"work\", \"work\", \"wrap\", \"year\", \"year\", \"year\", \"young\", \"young\", \"yr\"]}, \"R\": 30, \"lambda.step\": 0.01, \"plot.opts\": {\"xlab\": \"PC1\", \"ylab\": \"PC2\"}, \"topic.order\": [1, 2, 3]};\n\nfunction LDAvis_load_lib(url, callback){\n  var s = document.createElement('script');\n  s.src = url;\n  s.async = true;\n  s.onreadystatechange = s.onload = callback;\n  s.onerror = function(){console.warn(\"failed to load library \" + url);};\n  document.getElementsByTagName(\"head\")[0].appendChild(s);\n}\n\nif(typeof(LDAvis) !== \"undefined\"){\n   // already loaded: just create the visualization\n   !function(LDAvis){\n       new LDAvis(\"#\" + \"ldavis_el270023229482687446906864256\", ldavis_el270023229482687446906864256_data);\n   }(LDAvis);\n}else if(typeof define === \"function\" && define.amd){\n   // require.js is available: use it to load d3/LDAvis\n   require.config({paths: {d3: \"https://cdnjs.cloudflare.com/ajax/libs/d3/3.5.5/d3.min\"}});\n   require([\"d3\"], function(d3){\n      window.d3 = d3;\n      LDAvis_load_lib(\"https://cdn.rawgit.com/bmabey/pyLDAvis/files/ldavis.v1.0.0.js\", function(){\n        new LDAvis(\"#\" + \"ldavis_el270023229482687446906864256\", ldavis_el270023229482687446906864256_data);\n      });\n    });\n}else{\n    // require.js not available: dynamically load d3 & LDAvis\n    LDAvis_load_lib(\"https://cdnjs.cloudflare.com/ajax/libs/d3/3.5.5/d3.min.js\", function(){\n         LDAvis_load_lib(\"https://cdn.rawgit.com/bmabey/pyLDAvis/files/ldavis.v1.0.0.js\", function(){\n                 new LDAvis(\"#\" + \"ldavis_el270023229482687446906864256\", ldavis_el270023229482687446906864256_data);\n            })\n         });\n}\n</script>"
     },
     "execution_count": 24,
     "metadata": {},
     "output_type": "execute_result"
    }
   ],
   "source": [
    "pyLDAvis.gensim.prepare(lda, corpora, id2word)"
   ],
   "metadata": {
    "collapsed": false,
    "pycharm": {
     "name": "#%%\n"
    }
   }
  },
  {
   "cell_type": "code",
   "execution_count": 25,
   "outputs": [
    {
     "data": {
      "text/plain": "[(0, 0.032472014), (1, 0.9375395), (2, 0.02998847)]"
     },
     "execution_count": 25,
     "metadata": {},
     "output_type": "execute_result"
    }
   ],
   "source": [
    "lda[corpora[0]]"
   ],
   "metadata": {
    "collapsed": false,
    "pycharm": {
     "name": "#%%\n"
    }
   }
  },
  {
   "cell_type": "code",
   "execution_count": 26,
   "outputs": [
    {
     "data": {
      "text/plain": "'I order 3 of them and one of the item is bad quality. Is missing backup spring so I have to put a pcs of aluminum to make the battery work.'"
     },
     "execution_count": 26,
     "metadata": {},
     "output_type": "execute_result"
    }
   ],
   "source": [
    "df['reviews.text'][0]"
   ],
   "metadata": {
    "collapsed": false,
    "pycharm": {
     "name": "#%%\n"
    }
   }
  },
  {
   "cell_type": "code",
   "execution_count": 27,
   "outputs": [],
   "source": [
    "distro = [lda[d] for d in corpora]"
   ],
   "metadata": {
    "collapsed": false,
    "pycharm": {
     "name": "#%%\n"
    }
   }
  },
  {
   "cell_type": "code",
   "execution_count": 28,
   "outputs": [],
   "source": [
    "def update(doc):\n",
    "        d_dist = {k:0 for k in range(0,3)}\n",
    "        for t in doc:\n",
    "            d_dist[t[0]] = t[1]\n",
    "        return d_dist\n",
    "\n",
    "new_distro = [update(d) for d in distro]"
   ],
   "metadata": {
    "collapsed": false,
    "pycharm": {
     "name": "#%%\n"
    }
   }
  },
  {
   "cell_type": "code",
   "execution_count": 29,
   "outputs": [],
   "source": [
    "doc_topics = pd.DataFrame.from_records(new_distro)\n",
    "doc_topics.columns = topics"
   ],
   "metadata": {
    "collapsed": false,
    "pycharm": {
     "name": "#%%\n"
    }
   }
  },
  {
   "cell_type": "code",
   "execution_count": 30,
   "outputs": [
    {
     "data": {
      "text/plain": "   tablet great good use read  battery great good price work  \\\n0                    0.032461                       0.937551   \n1                    0.062706                       0.877403   \n2                    0.090079                       0.815790   \n3                    0.058475                       0.885560   \n4                    0.057269                       0.886112   \n\n   love tablet kid buy old  \n0                 0.029988  \n1                 0.059890  \n2                 0.094130  \n3                 0.055965  \n4                 0.056619  ",
      "text/html": "<div>\n<style scoped>\n    .dataframe tbody tr th:only-of-type {\n        vertical-align: middle;\n    }\n\n    .dataframe tbody tr th {\n        vertical-align: top;\n    }\n\n    .dataframe thead th {\n        text-align: right;\n    }\n</style>\n<table border=\"1\" class=\"dataframe\">\n  <thead>\n    <tr style=\"text-align: right;\">\n      <th></th>\n      <th>tablet great good use read</th>\n      <th>battery great good price work</th>\n      <th>love tablet kid buy old</th>\n    </tr>\n  </thead>\n  <tbody>\n    <tr>\n      <th>0</th>\n      <td>0.032461</td>\n      <td>0.937551</td>\n      <td>0.029988</td>\n    </tr>\n    <tr>\n      <th>1</th>\n      <td>0.062706</td>\n      <td>0.877403</td>\n      <td>0.059890</td>\n    </tr>\n    <tr>\n      <th>2</th>\n      <td>0.090079</td>\n      <td>0.815790</td>\n      <td>0.094130</td>\n    </tr>\n    <tr>\n      <th>3</th>\n      <td>0.058475</td>\n      <td>0.885560</td>\n      <td>0.055965</td>\n    </tr>\n    <tr>\n      <th>4</th>\n      <td>0.057269</td>\n      <td>0.886112</td>\n      <td>0.056619</td>\n    </tr>\n  </tbody>\n</table>\n</div>"
     },
     "execution_count": 30,
     "metadata": {},
     "output_type": "execute_result"
    }
   ],
   "source": [
    "doc_topics.head()"
   ],
   "metadata": {
    "collapsed": false,
    "pycharm": {
     "name": "#%%\n"
    }
   }
  },
  {
   "cell_type": "code",
   "execution_count": 31,
   "outputs": [],
   "source": [
    "doc_topics['primary_topic'] = doc_topics.idxmax(axis=1)"
   ],
   "metadata": {
    "collapsed": false,
    "pycharm": {
     "name": "#%%\n"
    }
   }
  },
  {
   "cell_type": "code",
   "execution_count": 32,
   "outputs": [
    {
     "data": {
      "text/plain": "battery great good price work    12190\nlove tablet kid buy old           8244\ntablet great good use read        7898\nName: primary_topic, dtype: int64"
     },
     "execution_count": 32,
     "metadata": {},
     "output_type": "execute_result"
    }
   ],
   "source": [
    "doc_topics['primary_topic'].value_counts()"
   ],
   "metadata": {
    "collapsed": false,
    "pycharm": {
     "name": "#%%\n"
    }
   }
  },
  {
   "cell_type": "code",
   "execution_count": 48,
   "outputs": [
    {
     "data": {
      "text/plain": "<Figure size 432x288 with 1 Axes>",
      "image/png": "[encoded data removed]"
     },
     "metadata": {
      "needs_background": "light"
     },
     "output_type": "display_data"
    }
   ],
   "source": [
    "import seaborn as sns\n",
    "\n",
    "sns.distplot(doc_topics['tablet great good use read'])\n",
    "sns.distplot(doc_topics['battery great good price work'])\n",
    "sns.distplot(doc_topics['love tablet kid buy old']);\n"
   ],
   "metadata": {
    "collapsed": false,
    "pycharm": {
     "name": "#%%\n"
    }
   }
  },
  {
   "cell_type": "markdown",
   "metadata": {},
   "source": [
    "## Stretch Goals\n",
    "\n",
    "* Incorporate Named Entity Recognition in your analysis\n",
    "* Incorporate some custom pre-processing from our previous lessons (like spacy lemmatization)\n",
    "* Analyze a dataset of interest to you with topic modeling"
   ]
  }
 ],
 "metadata": {
  "kernelspec": {
   "display_name": "U4-S1-NLP (Python 3)",
   "language": "python",
   "name": "u4-s1-nlp"
  },
  "language_info": {
   "codemirror_mode": {
    "name": "ipython",
    "version": 3
   },
   "file_extension": ".py",
   "mimetype": "text/x-python",
   "name": "python",
   "nbconvert_exporter": "python",
   "pygments_lexer": "ipython3",
   "version": "3.7.3"
  }
 },
 "nbformat": 4,
 "nbformat_minor": 2
}