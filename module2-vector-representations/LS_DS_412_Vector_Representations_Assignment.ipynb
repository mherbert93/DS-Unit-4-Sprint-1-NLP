{
 "cells": [
  {
   "cell_type": "markdown",
   "metadata": {},
   "source": [
    "<img align=\"left\" src=\"https://lever-client-logos.s3.amazonaws.com/864372b1-534c-480e-acd5-9711f850815c-1524247202159.png\" width=200>\n",
    "<br></br>\n",
    "\n",
    "# Vector Representations\n",
    "## *Data Science Unit 4 Sprint 2 Assignment 2*"
   ]
  },
  {
   "cell_type": "code",
   "execution_count": 212,
   "metadata": {
    "colab": {
     "base_uri": "https://localhost:8080/",
     "height": 159
    },
    "colab_type": "code",
    "id": "hyj-f9FDcVFp",
    "outputId": "5dd045fe-6e4c-458c-e2fc-253c3da9c805"
   },
   "outputs": [],
   "source": [
    "import re\n",
    "import string\n",
    "from collections import Counter\n",
    "import squarify\n",
    "import matplotlib.pyplot as plt\n",
    "\n",
    "from sklearn.feature_extraction.text import CountVectorizer, TfidfVectorizer\n",
    "import matplotlib.pyplot as plt\n",
    "import pandas as pd\n",
    "import numpy as np\n",
    "import spacy\n",
    "\n",
    "from bs4 import BeautifulSoup\n",
    "import pprint\n",
    "\n",
    "nlp = spacy.load(\"en_core_web_lg\")"
   ]
  },
  {
   "cell_type": "code",
   "execution_count": 213,
   "outputs": [],
   "source": [
    "def clean_listing(description):\n",
    "\n",
    "    soup = BeautifulSoup(description)\n",
    "\n",
    "    return soup.get_text()\n",
    "\n",
    "def tokenize(document):\n",
    "\n",
    "    doc = nlp(document)\n",
    "\n",
    "    return [token.lemma_.strip() for token in doc if (token.is_stop != True) and (token.is_punct != True) and (token.is_digit == False)]\n"
   ],
   "metadata": {
    "collapsed": false,
    "pycharm": {
     "name": "#%%\n"
    }
   }
  },
  {
   "cell_type": "markdown",
   "metadata": {
    "colab_type": "text",
    "id": "M7bcmqfGXrFG"
   },
   "source": [
    "## 1) *Clean:* Job Listings from indeed.com that contain the title \"Data Scientist\" \n",
    "\n",
    "You have `job_listings.csv` in the data folder for this module. The text data in the description column is still messy - full of html tags. Use the [BeautifulSoup](https://www.crummy.com/software/BeautifulSoup/bs4/doc/) library to clean up this column. You will need to read through the documentation to accomplish this task. "
   ]
  },
  {
   "cell_type": "code",
   "execution_count": 214,
   "metadata": {
    "colab": {},
    "colab_type": "code",
    "id": "KcYlc1URXhlC"
   },
   "outputs": [],
   "source": [
    "import requests"
   ]
  },
  {
   "cell_type": "code",
   "execution_count": 215,
   "outputs": [],
   "source": [
    "df = pd.read_csv('./data/job_listings.csv')\n",
    "df.drop(columns=['Unnamed: 0'], axis=1, inplace=True)"
   ],
   "metadata": {
    "collapsed": false,
    "pycharm": {
     "name": "#%%\n"
    }
   }
  },
  {
   "cell_type": "code",
   "execution_count": 216,
   "outputs": [],
   "source": [
    "df['cleaned_description'] = df['description'].apply(clean_listing)"
   ],
   "metadata": {
    "collapsed": false,
    "pycharm": {
     "name": "#%%\n"
    }
   }
  },
  {
   "cell_type": "code",
   "execution_count": 217,
   "outputs": [
    {
     "data": {
      "text/plain": "'b\"Job Requirements:\\\\nConceptual understanding in Machine Learning models like Nai\\\\xc2\\\\xa8ve Bayes, K-Means, SVM, Apriori, Linear/ Logistic Regression, Neural, Random Forests, Decision Trees, K-NN along with hands-on experience in at least 2 of them\\\\nIntermediate to expert level coding skills in Python/R. (Ability to write functions, clean and efficient data manipulation are mandatory for this role)\\\\nExposure to packages like NumPy, SciPy, Pandas, Matplotlib etc in Python or GGPlot2, dplyr, tidyR in R\\\\nAbility to communicate Model findings to both Technical and Non-Technical stake holders\\\\nHands on experience in SQL/Hive or similar programming language\\\\nMust show past work via GitHub, Kaggle or any other published article\\\\nMaster\\'s degree in Statistics/Mathematics/Computer Science or any other quant specific field.\\\\nApply Now\"'"
     },
     "execution_count": 217,
     "metadata": {},
     "output_type": "execute_result"
    }
   ],
   "source": [
    "df['cleaned_description'][0]\n"
   ],
   "metadata": {
    "collapsed": false,
    "pycharm": {
     "name": "#%%\n"
    }
   }
  },
  {
   "cell_type": "markdown",
   "metadata": {
    "colab_type": "text",
    "id": "5C4xFZNtX1m2"
   },
   "source": [
    "## 2) Use Spacy to tokenize the listings "
   ]
  },
  {
   "cell_type": "code",
   "execution_count": 218,
   "metadata": {
    "colab": {},
    "colab_type": "code",
    "id": "dhUHuMr-X-II"
   },
   "outputs": [],
   "source": [
    "df['tokens'] = df['cleaned_description'].apply(tokenize)"
   ]
  },
  {
   "cell_type": "code",
   "execution_count": 219,
   "outputs": [],
   "source": [
    "## df['tokens'][1]"
   ],
   "metadata": {
    "collapsed": false,
    "pycharm": {
     "name": "#%%\n"
    }
   }
  },
  {
   "cell_type": "markdown",
   "metadata": {
    "colab_type": "text",
    "id": "-lgCZNL_YycP"
   },
   "source": [
    "## 3) Use Scikit-Learn's CountVectorizer to get word counts for each listing."
   ]
  },
  {
   "cell_type": "code",
   "execution_count": 220,
   "metadata": {
    "colab": {},
    "colab_type": "code",
    "id": "X2PZ8Pj_YxcF"
   },
   "outputs": [],
   "source": [
    "count_vectorize = CountVectorizer(stop_words='english', max_features=1000, max_df=.97, min_df=.05, tokenizer=tokenize,\n",
    "                                  ngram_range=(1, 4))\n",
    "\n",
    "dtm = count_vectorize.fit_transform(df['cleaned_description'])\n",
    "\n",
    "dtm = pd.DataFrame(dtm.todense(), columns=count_vectorize.get_feature_names())"
   ]
  },
  {
   "cell_type": "code",
   "execution_count": 221,
   "outputs": [
    {
     "data": {
      "text/plain": "   $  +  + year  + year experience  \\xe2\\x80\\x93  ability  ability work  able  \\\n0  0  0       0                  0             0        1             0     0   \n1  0  1       1                  0             0        1             0     0   \n2  0  0       0                  0             0        0             0     0   \n3  3  0       0                  0             0        0             0     0   \n4  0  1       1                  0             1        0             0     0   \n\n   academic  accelerate  ...  write communication skill  write verbal  \\\n0         0           0  ...                          0             0   \n1         0           0  ...                          0             0   \n2         0           0  ...                          0             0   \n3         0           0  ...                          0             0   \n4         0           0  ...                          0             0   \n\n   write verbal communication  year  year experience  year relevant  \\\n0                           0     0                0              0   \n1                           0     1                0              0   \n2                           0     0                0              0   \n3                           0     1                0              0   \n4                           0     1                0              0   \n\n   year work  years\\xe2\\x80\\x99  york  you\\xe2\\x80\\x99ll  \n0          0                  0     0                  0  \n1          0                  0     0                  0  \n2          0                  0     0                  0  \n3          0                  0     0                  0  \n4          0                  0     0                  0  \n\n[5 rows x 1000 columns]",
      "text/html": "<div>\n<style scoped>\n    .dataframe tbody tr th:only-of-type {\n        vertical-align: middle;\n    }\n\n    .dataframe tbody tr th {\n        vertical-align: top;\n    }\n\n    .dataframe thead th {\n        text-align: right;\n    }\n</style>\n<table border=\"1\" class=\"dataframe\">\n  <thead>\n    <tr style=\"text-align: right;\">\n      <th></th>\n      <th>$</th>\n      <th>+</th>\n      <th>+ year</th>\n      <th>+ year experience</th>\n      <th>\\xe2\\x80\\x93</th>\n      <th>ability</th>\n      <th>ability work</th>\n      <th>able</th>\n      <th>academic</th>\n      <th>accelerate</th>\n      <th>...</th>\n      <th>write communication skill</th>\n      <th>write verbal</th>\n      <th>write verbal communication</th>\n      <th>year</th>\n      <th>year experience</th>\n      <th>year relevant</th>\n      <th>year work</th>\n      <th>years\\xe2\\x80\\x99</th>\n      <th>york</th>\n      <th>you\\xe2\\x80\\x99ll</th>\n    </tr>\n  </thead>\n  <tbody>\n    <tr>\n      <th>0</th>\n      <td>0</td>\n      <td>0</td>\n      <td>0</td>\n      <td>0</td>\n      <td>0</td>\n      <td>1</td>\n      <td>0</td>\n      <td>0</td>\n      <td>0</td>\n      <td>0</td>\n      <td>...</td>\n      <td>0</td>\n      <td>0</td>\n      <td>0</td>\n      <td>0</td>\n      <td>0</td>\n      <td>0</td>\n      <td>0</td>\n      <td>0</td>\n      <td>0</td>\n      <td>0</td>\n    </tr>\n    <tr>\n      <th>1</th>\n      <td>0</td>\n      <td>1</td>\n      <td>1</td>\n      <td>0</td>\n      <td>0</td>\n      <td>1</td>\n      <td>0</td>\n      <td>0</td>\n      <td>0</td>\n      <td>0</td>\n      <td>...</td>\n      <td>0</td>\n      <td>0</td>\n      <td>0</td>\n      <td>1</td>\n      <td>0</td>\n      <td>0</td>\n      <td>0</td>\n      <td>0</td>\n      <td>0</td>\n      <td>0</td>\n    </tr>\n    <tr>\n      <th>2</th>\n      <td>0</td>\n      <td>0</td>\n      <td>0</td>\n      <td>0</td>\n      <td>0</td>\n      <td>0</td>\n      <td>0</td>\n      <td>0</td>\n      <td>0</td>\n      <td>0</td>\n      <td>...</td>\n      <td>0</td>\n      <td>0</td>\n      <td>0</td>\n      <td>0</td>\n      <td>0</td>\n      <td>0</td>\n      <td>0</td>\n      <td>0</td>\n      <td>0</td>\n      <td>0</td>\n    </tr>\n    <tr>\n      <th>3</th>\n      <td>3</td>\n      <td>0</td>\n      <td>0</td>\n      <td>0</td>\n      <td>0</td>\n      <td>0</td>\n      <td>0</td>\n      <td>0</td>\n      <td>0</td>\n      <td>0</td>\n      <td>...</td>\n      <td>0</td>\n      <td>0</td>\n      <td>0</td>\n      <td>1</td>\n      <td>0</td>\n      <td>0</td>\n      <td>0</td>\n      <td>0</td>\n      <td>0</td>\n      <td>0</td>\n    </tr>\n    <tr>\n      <th>4</th>\n      <td>0</td>\n      <td>1</td>\n      <td>1</td>\n      <td>0</td>\n      <td>1</td>\n      <td>0</td>\n      <td>0</td>\n      <td>0</td>\n      <td>0</td>\n      <td>0</td>\n      <td>...</td>\n      <td>0</td>\n      <td>0</td>\n      <td>0</td>\n      <td>1</td>\n      <td>0</td>\n      <td>0</td>\n      <td>0</td>\n      <td>0</td>\n      <td>0</td>\n      <td>0</td>\n    </tr>\n  </tbody>\n</table>\n<p>5 rows × 1000 columns</p>\n</div>"
     },
     "execution_count": 221,
     "metadata": {},
     "output_type": "execute_result"
    }
   ],
   "source": [
    "dtm.head()"
   ],
   "metadata": {
    "collapsed": false,
    "pycharm": {
     "name": "#%%\n"
    }
   }
  },
  {
   "cell_type": "markdown",
   "metadata": {
    "colab_type": "text",
    "id": "Zo1iH_UeY7_n"
   },
   "source": [
    "## 4) Visualize the most common word counts"
   ]
  },
  {
   "cell_type": "code",
   "execution_count": 222,
   "metadata": {
    "colab": {},
    "colab_type": "code",
    "id": "M5LB00uyZKV5"
   },
   "outputs": [],
   "source": [
    "dtm_counts = dtm.sum(axis=0).sort_values(ascending=False).head(10)"
   ]
  },
  {
   "cell_type": "code",
   "execution_count": 223,
   "outputs": [
    {
     "data": {
      "text/plain": "<Figure size 432x288 with 1 Axes>",
      "image/png": "[encoded data removed]"
     },
     "metadata": {
      "needs_background": "light"
     },
     "output_type": "display_data"
    }
   ],
   "source": [
    "squarify.plot(sizes=dtm_counts, label=dtm_counts.index, alpha=.8)\n",
    "plt.axis('off')\n",
    "plt.show()"
   ],
   "metadata": {
    "collapsed": false,
    "pycharm": {
     "name": "#%%\n"
    }
   }
  },
  {
   "cell_type": "markdown",
   "metadata": {
    "colab_type": "text",
    "id": "bwFsTqrVZMYi"
   },
   "source": [
    "## 5) Use Scikit-Learn's tfidfVectorizer to get a TF-IDF feature matrix"
   ]
  },
  {
   "cell_type": "code",
   "execution_count": 224,
   "metadata": {
    "colab": {},
    "colab_type": "code",
    "id": "-gx2gZCbl5Np"
   },
   "outputs": [
    {
     "data": {
      "text/plain": "            $         +    + year  + year experience  \\xe2\\x80\\x93   ability  \\\n0    0.000000  0.000000  0.000000           0.000000      0.000000  0.082991   \n1    0.000000  0.042185  0.045750           0.000000      0.000000  0.038675   \n2    0.000000  0.000000  0.000000           0.000000      0.000000  0.000000   \n3    0.243795  0.000000  0.000000           0.000000      0.000000  0.000000   \n4    0.000000  0.227492  0.246719           0.000000      0.331556  0.000000   \n..        ...       ...       ...                ...           ...       ...   \n421  0.052954  0.063330  0.068682           0.098686      0.000000  0.058060   \n422  0.000000  0.000000  0.000000           0.000000      0.000000  0.000000   \n423  0.078354  0.000000  0.000000           0.000000      0.000000  0.000000   \n424  0.000000  0.000000  0.000000           0.000000      0.000000  0.000000   \n425  0.000000  0.000000  0.000000           0.000000      0.097926  0.000000   \n\n     ability work      able  academic  accelerate  ...  write verbal  \\\n0             0.0  0.000000       0.0    0.000000  ...           0.0   \n1             0.0  0.000000       0.0    0.000000  ...           0.0   \n2             0.0  0.000000       0.0    0.000000  ...           0.0   \n3             0.0  0.000000       0.0    0.000000  ...           0.0   \n4             0.0  0.000000       0.0    0.000000  ...           0.0   \n..            ...       ...       ...         ...  ...           ...   \n421           0.0  0.000000       0.0    0.000000  ...           0.0   \n422           0.0  0.000000       0.0    0.000000  ...           0.0   \n423           0.0  0.000000       0.0    0.000000  ...           0.0   \n424           0.0  0.094799       0.0    0.135596  ...           0.0   \n425           0.0  0.000000       0.0    0.000000  ...           0.0   \n\n     write verbal communication      year  year experience  year professional  \\\n0                           0.0  0.000000         0.000000                0.0   \n1                           0.0  0.030272         0.000000                0.0   \n2                           0.0  0.000000         0.000000                0.0   \n3                           0.0  0.034871         0.000000                0.0   \n4                           0.0  0.163249         0.000000                0.0   \n..                          ...       ...              ...                ...   \n421                         0.0  0.090891         0.074816                0.0   \n422                         0.0  0.000000         0.000000                0.0   \n423                         0.0  0.033622         0.000000                0.0   \n424                         0.0  0.025805         0.042482                0.0   \n425                         0.0  0.048216         0.000000                0.0   \n\n     year relevant  year work  years\\xe2\\x80\\x99     york  you\\xe2\\x80\\x99ll  \n0              0.0        0.0                0.0  0.00000           0.000000  \n1              0.0        0.0                0.0  0.00000           0.000000  \n2              0.0        0.0                0.0  0.00000           0.000000  \n3              0.0        0.0                0.0  0.00000           0.000000  \n4              0.0        0.0                0.0  0.00000           0.000000  \n..             ...        ...                ...      ...                ...  \n421            0.0        0.0                0.0  0.06345           0.047935  \n422            0.0        0.0                0.0  0.00000           0.000000  \n423            0.0        0.0                0.0  0.00000           0.000000  \n424            0.0        0.0                0.0  0.00000           0.000000  \n425            0.0        0.0                0.0  0.00000           0.000000  \n\n[426 rows x 1105 columns]",
      "text/html": "<div>\n<style scoped>\n    .dataframe tbody tr th:only-of-type {\n        vertical-align: middle;\n    }\n\n    .dataframe tbody tr th {\n        vertical-align: top;\n    }\n\n    .dataframe thead th {\n        text-align: right;\n    }\n</style>\n<table border=\"1\" class=\"dataframe\">\n  <thead>\n    <tr style=\"text-align: right;\">\n      <th></th>\n      <th>$</th>\n      <th>+</th>\n      <th>+ year</th>\n      <th>+ year experience</th>\n      <th>\\xe2\\x80\\x93</th>\n      <th>ability</th>\n      <th>ability work</th>\n      <th>able</th>\n      <th>academic</th>\n      <th>accelerate</th>\n      <th>...</th>\n      <th>write verbal</th>\n      <th>write verbal communication</th>\n      <th>year</th>\n      <th>year experience</th>\n      <th>year professional</th>\n      <th>year relevant</th>\n      <th>year work</th>\n      <th>years\\xe2\\x80\\x99</th>\n      <th>york</th>\n      <th>you\\xe2\\x80\\x99ll</th>\n    </tr>\n  </thead>\n  <tbody>\n    <tr>\n      <th>0</th>\n      <td>0.000000</td>\n      <td>0.000000</td>\n      <td>0.000000</td>\n      <td>0.000000</td>\n      <td>0.000000</td>\n      <td>0.082991</td>\n      <td>0.0</td>\n      <td>0.000000</td>\n      <td>0.0</td>\n      <td>0.000000</td>\n      <td>...</td>\n      <td>0.0</td>\n      <td>0.0</td>\n      <td>0.000000</td>\n      <td>0.000000</td>\n      <td>0.0</td>\n      <td>0.0</td>\n      <td>0.0</td>\n      <td>0.0</td>\n      <td>0.00000</td>\n      <td>0.000000</td>\n    </tr>\n    <tr>\n      <th>1</th>\n      <td>0.000000</td>\n      <td>0.042185</td>\n      <td>0.045750</td>\n      <td>0.000000</td>\n      <td>0.000000</td>\n      <td>0.038675</td>\n      <td>0.0</td>\n      <td>0.000000</td>\n      <td>0.0</td>\n      <td>0.000000</td>\n      <td>...</td>\n      <td>0.0</td>\n      <td>0.0</td>\n      <td>0.030272</td>\n      <td>0.000000</td>\n      <td>0.0</td>\n      <td>0.0</td>\n      <td>0.0</td>\n      <td>0.0</td>\n      <td>0.00000</td>\n      <td>0.000000</td>\n    </tr>\n    <tr>\n      <th>2</th>\n      <td>0.000000</td>\n      <td>0.000000</td>\n      <td>0.000000</td>\n      <td>0.000000</td>\n      <td>0.000000</td>\n      <td>0.000000</td>\n      <td>0.0</td>\n      <td>0.000000</td>\n      <td>0.0</td>\n      <td>0.000000</td>\n      <td>...</td>\n      <td>0.0</td>\n      <td>0.0</td>\n      <td>0.000000</td>\n      <td>0.000000</td>\n      <td>0.0</td>\n      <td>0.0</td>\n      <td>0.0</td>\n      <td>0.0</td>\n      <td>0.00000</td>\n      <td>0.000000</td>\n    </tr>\n    <tr>\n      <th>3</th>\n      <td>0.243795</td>\n      <td>0.000000</td>\n      <td>0.000000</td>\n      <td>0.000000</td>\n      <td>0.000000</td>\n      <td>0.000000</td>\n      <td>0.0</td>\n      <td>0.000000</td>\n      <td>0.0</td>\n      <td>0.000000</td>\n      <td>...</td>\n      <td>0.0</td>\n      <td>0.0</td>\n      <td>0.034871</td>\n      <td>0.000000</td>\n      <td>0.0</td>\n      <td>0.0</td>\n      <td>0.0</td>\n      <td>0.0</td>\n      <td>0.00000</td>\n      <td>0.000000</td>\n    </tr>\n    <tr>\n      <th>4</th>\n      <td>0.000000</td>\n      <td>0.227492</td>\n      <td>0.246719</td>\n      <td>0.000000</td>\n      <td>0.331556</td>\n      <td>0.000000</td>\n      <td>0.0</td>\n      <td>0.000000</td>\n      <td>0.0</td>\n      <td>0.000000</td>\n      <td>...</td>\n      <td>0.0</td>\n      <td>0.0</td>\n      <td>0.163249</td>\n      <td>0.000000</td>\n      <td>0.0</td>\n      <td>0.0</td>\n      <td>0.0</td>\n      <td>0.0</td>\n      <td>0.00000</td>\n      <td>0.000000</td>\n    </tr>\n    <tr>\n      <th>...</th>\n      <td>...</td>\n      <td>...</td>\n      <td>...</td>\n      <td>...</td>\n      <td>...</td>\n      <td>...</td>\n      <td>...</td>\n      <td>...</td>\n      <td>...</td>\n      <td>...</td>\n      <td>...</td>\n      <td>...</td>\n      <td>...</td>\n      <td>...</td>\n      <td>...</td>\n      <td>...</td>\n      <td>...</td>\n      <td>...</td>\n      <td>...</td>\n      <td>...</td>\n      <td>...</td>\n    </tr>\n    <tr>\n      <th>421</th>\n      <td>0.052954</td>\n      <td>0.063330</td>\n      <td>0.068682</td>\n      <td>0.098686</td>\n      <td>0.000000</td>\n      <td>0.058060</td>\n      <td>0.0</td>\n      <td>0.000000</td>\n      <td>0.0</td>\n      <td>0.000000</td>\n      <td>...</td>\n      <td>0.0</td>\n      <td>0.0</td>\n      <td>0.090891</td>\n      <td>0.074816</td>\n      <td>0.0</td>\n      <td>0.0</td>\n      <td>0.0</td>\n      <td>0.0</td>\n      <td>0.06345</td>\n      <td>0.047935</td>\n    </tr>\n    <tr>\n      <th>422</th>\n      <td>0.000000</td>\n      <td>0.000000</td>\n      <td>0.000000</td>\n      <td>0.000000</td>\n      <td>0.000000</td>\n      <td>0.000000</td>\n      <td>0.0</td>\n      <td>0.000000</td>\n      <td>0.0</td>\n      <td>0.000000</td>\n      <td>...</td>\n      <td>0.0</td>\n      <td>0.0</td>\n      <td>0.000000</td>\n      <td>0.000000</td>\n      <td>0.0</td>\n      <td>0.0</td>\n      <td>0.0</td>\n      <td>0.0</td>\n      <td>0.00000</td>\n      <td>0.000000</td>\n    </tr>\n    <tr>\n      <th>423</th>\n      <td>0.078354</td>\n      <td>0.000000</td>\n      <td>0.000000</td>\n      <td>0.000000</td>\n      <td>0.000000</td>\n      <td>0.000000</td>\n      <td>0.0</td>\n      <td>0.000000</td>\n      <td>0.0</td>\n      <td>0.000000</td>\n      <td>...</td>\n      <td>0.0</td>\n      <td>0.0</td>\n      <td>0.033622</td>\n      <td>0.000000</td>\n      <td>0.0</td>\n      <td>0.0</td>\n      <td>0.0</td>\n      <td>0.0</td>\n      <td>0.00000</td>\n      <td>0.000000</td>\n    </tr>\n    <tr>\n      <th>424</th>\n      <td>0.000000</td>\n      <td>0.000000</td>\n      <td>0.000000</td>\n      <td>0.000000</td>\n      <td>0.000000</td>\n      <td>0.000000</td>\n      <td>0.0</td>\n      <td>0.094799</td>\n      <td>0.0</td>\n      <td>0.135596</td>\n      <td>...</td>\n      <td>0.0</td>\n      <td>0.0</td>\n      <td>0.025805</td>\n      <td>0.042482</td>\n      <td>0.0</td>\n      <td>0.0</td>\n      <td>0.0</td>\n      <td>0.0</td>\n      <td>0.00000</td>\n      <td>0.000000</td>\n    </tr>\n    <tr>\n      <th>425</th>\n      <td>0.000000</td>\n      <td>0.000000</td>\n      <td>0.000000</td>\n      <td>0.000000</td>\n      <td>0.097926</td>\n      <td>0.000000</td>\n      <td>0.0</td>\n      <td>0.000000</td>\n      <td>0.0</td>\n      <td>0.000000</td>\n      <td>...</td>\n      <td>0.0</td>\n      <td>0.0</td>\n      <td>0.048216</td>\n      <td>0.000000</td>\n      <td>0.0</td>\n      <td>0.0</td>\n      <td>0.0</td>\n      <td>0.0</td>\n      <td>0.00000</td>\n      <td>0.000000</td>\n    </tr>\n  </tbody>\n</table>\n<p>426 rows × 1105 columns</p>\n</div>"
     },
     "execution_count": 224,
     "metadata": {},
     "output_type": "execute_result"
    }
   ],
   "source": [
    "tfidf = TfidfVectorizer(stop_words='english',\n",
    "                        ngram_range=(1, 4),\n",
    "                        max_df=.97,\n",
    "                        min_df=.05,\n",
    "                        tokenizer=tokenize)\n",
    "\n",
    "dtm = tfidf.fit_transform(df['cleaned_description'])\n",
    "\n",
    "dtm = pd.DataFrame(dtm.todense(), columns=tfidf.get_feature_names())\n",
    "\n",
    "dtm"
   ]
  },
  {
   "cell_type": "markdown",
   "metadata": {},
   "source": [
    "## 6) Create a NearestNeighbor Model. Write the description of your ideal datascience job and query your job listings. "
   ]
  },
  {
   "cell_type": "code",
   "execution_count": 225,
   "metadata": {
    "collapsed": false,
    "inputHidden": false,
    "jupyter": {
     "outputs_hidden": false
    },
    "outputHidden": false
   },
   "outputs": [
    {
     "data": {
      "text/plain": "NearestNeighbors(algorithm='kd_tree', leaf_size=30, metric='minkowski',\n                 metric_params=None, n_jobs=None, n_neighbors=6, p=2,\n                 radius=1.0)"
     },
     "execution_count": 225,
     "metadata": {},
     "output_type": "execute_result"
    }
   ],
   "source": [
    "from sklearn.neighbors import NearestNeighbors\n",
    "\n",
    "model = NearestNeighbors(n_neighbors=6, algorithm='kd_tree')\n",
    "model.fit(dtm)"
   ]
  },
  {
   "cell_type": "code",
   "execution_count": 226,
   "outputs": [],
   "source": [
    "def recommendations(text):\n",
    "    text_transformed = tfidf.transform(text)\n",
    "    results = model.kneighbors(text_transformed.todense())\n",
    "\n",
    "    return results\n"
   ],
   "metadata": {
    "collapsed": false,
    "pycharm": {
     "name": "#%%\n"
    }
   }
  },
  {
   "cell_type": "code",
   "execution_count": 227,
   "outputs": [
    {
     "name": "stdout",
     "output_type": "stream",
     "text": [
      "(array([[1.16087888, 1.17236512, 1.22079525, 1.22079525, 1.2253458 ,\n",
      "        1.23968927]]), array([[ 79, 327, 413, 153,  51, 338]], dtype=int64))\n"
     ]
    }
   ],
   "source": [
    "text = [\"\"\"\n",
    "Looking for a data scientist with experience in predictive modeling techniques such as linear regression, logistic regression, decision trees, SVC and neural networks.\n",
    "Experience with time series data is a plus.\n",
    "Skills:\n",
    "Python\n",
    "SQL\n",
    "Microsoft Access\n",
    "VBA\n",
    "\n",
    "Job location:\n",
    "Fully remote\n",
    "\"\"\"]\n",
    "\n",
    "print(recommendations(text))\n"
   ],
   "metadata": {
    "collapsed": false,
    "pycharm": {
     "name": "#%%\n"
    }
   }
  },
  {
   "cell_type": "code",
   "execution_count": 230,
   "outputs": [
    {
     "name": "stdout",
     "output_type": "stream",
     "text": [
      "(\"b'ContractAkraya is looking for a Data Scientist for one of our clients. If \"\n",
      " 'the job description below is a fit, please apply directly or call Swapnil at '\n",
      " '408-907-3201. If this position is not quite what you\\\\xe2\\\\x80\\\\x99 re '\n",
      " 'looking for, visit akraya.Com and submit a copy of your resume. Our '\n",
      " 'recruiters will get to work finding you a job that is a better match at one '\n",
      " 'of our many clients.\\\\n\\\\nPrimary Skills: Data Science, Hive/Impala/Hadoop, '\n",
      " 'Statistical and Data Mining, R, Python, Redshift/ S3/ Spark, Google '\n",
      " 'Analytics/ Adwords\\\\nDuration: 6+ Months, with possible extension\\\\nContract '\n",
      " 'Type: W2 Only\\\\n\\\\nTop Daily Responsibilities:\\\\nKnowledge and experience '\n",
      " 'with large data sets, event streams and distributed computing '\n",
      " '(Hive/Impala/Hadoop etc.)\\\\nAbility to gather requirements and develop '\n",
      " 'reports in tool selected by business and KPIT\\\\nSupport Data-Science and '\n",
      " 'other analytics as needed.\\\\nDevelop SQL queries and data sets\\\\nDevelop '\n",
      " 'business and client facing reports\\\\n\\\\nSkills a Top Candidate Should '\n",
      " 'Have:\\\\nWe\\\\xe2\\\\x80\\\\x99 re looking for someone with experience '\n",
      " 'manipulating data sets and building statistical models, have a '\n",
      " 'Master\\\\xe2\\\\x80\\\\x99 s or PHD in Statistics, Mathematics, Computer Science '\n",
      " 'or another quantitative field, and are familiar with software.\\\\nKnowledge '\n",
      " 'and experience in statistical and data mining techniques: GLM/Regression, '\n",
      " 'Random Forest, Boosting, Trees, text mining, social network analysis, '\n",
      " 'etc.\\\\nExperience querying databases and using statistical computer '\n",
      " 'languages: R, Python, SLQ, etc.\\\\nExperience using web services: Redshift, '\n",
      " 'S3, Spark, DigitalOcean, etc.\\\\nExperience creating and using advanced '\n",
      " 'machine learning algorithms and statistics: regression, simulation, scenario '\n",
      " 'analysis, modeling, clustering, decision trees, neural networks, '\n",
      " 'etc.\\\\nExperience analyzing data from 3rd party providers: Google Analytics, '\n",
      " 'Site Catalyst, Coremetrics, Adwords, Crimson Hexagon, Facebook Insights, '\n",
      " 'etc.\\\\nExperience with distributed data/computing tools: Map/Reduce, Hadoop, '\n",
      " 'Hive, Spark, Gurobi, MySQL, etc.\\\\nExperience visualizing/presenting data '\n",
      " 'for stakeholders using: Periscope, Business Objects, D3, ggplot, '\n",
      " 'etc.\\\\n\\\\nDesired Skills:\\\\nStrong problem solving skills with an emphasis '\n",
      " 'on product development.\\\\nExperience using statistical computer languages '\n",
      " '(R, Python, SQL, etc.) to manipulate data and draw insights from large data '\n",
      " 'sets.\\\\nExperience working with and creating data architectures.\\\\nKnowledge '\n",
      " 'of a variety of machine learning techniques (clustering, decision tree '\n",
      " 'learning, artificial neural networks, etc.) and their real-world '\n",
      " 'advantages/drawbacks.\\\\nKnowledge of advanced statistical techniques and '\n",
      " 'concepts (regression, properties of distributions, statistical tests and '\n",
      " 'proper usage, etc.) and experience with applications.\\\\nExcellent written '\n",
      " 'and verbal communication skills for coordinating across teams.\\\\nA drive to '\n",
      " 'learn and master new technologies and techniques.\\\\n\\\\nSoft '\n",
      " 'Skills:\\\\nExcellent Communication Skills.\\\\nAbility to work with business to '\n",
      " 'gather report requirements\\\\nTeam player.\\\\n\\\\n\\\\nPlease apply directly with '\n",
      " 'your updated resume or call Swapnil at 408-907-3201\\\\n\\\\nAbout '\n",
      " 'Akraya\\\\nAkraya, Inc. Is an award-winning staffing firm that works with many '\n",
      " 'of the leading, technology-based companies around the world. We have been '\n",
      " 'ranked as one of the \\\\xe2\\\\x80\\\\x9c Best Staffing Firms to Temp '\n",
      " 'for\\\\xe2\\\\x80\\\\x9d by Staffing Industry Analysts on multiple occasions and '\n",
      " 'are a preferred staffing vendor within numerous staffing programs. Please '\n",
      " 'visit akraya.Com to search through all of our current openings or to submit '\n",
      " \"your resume to our recruiting team.'\")\n"
     ]
    }
   ],
   "source": [
    "pprint.pprint(df['cleaned_description'][79])\n"
   ],
   "metadata": {
    "collapsed": false,
    "pycharm": {
     "name": "#%%\n"
    }
   }
  },
  {
   "cell_type": "markdown",
   "metadata": {
    "colab_type": "text",
    "id": "FiDfTWceoRkH"
   },
   "source": [
    "## Stretch Goals\n",
    "\n",
    " - Try different visualizations for words and frequencies - what story do you want to tell with the data?\n",
    " - Scrape Job Listings for the job title \"Data Analyst\". How do these differ from Data Scientist Job Listings\n",
    " - Try and identify requirements for experience specific technologies that are asked for in the job listings. How are those distributed among the job listings?\n",
    " - Use a clustering algorithm to cluster documents by their most important terms. Do the clusters reveal any common themes?\n",
    "  - **Hint:** K-means might not be the best algorithm for this. Do a little bit of research to see what might be good for this. Also, remember that algorithms that depend on Euclidean distance break down with high dimensional data.\n",
    " - Create a labeled dataset - which jobs will you apply for? Train a model to select the jobs you are most likely to apply for. :) "
   ]
  }
 ],
 "metadata": {
  "colab": {
   "collapsed_sections": [],
   "name": "LS_DS_422_BOW_Assignment.ipynb",
   "provenance": [],
   "version": "0.3.2"
  },
  "kernel_info": {
   "name": "python3"
  },
  "kernelspec": {
   "name": "u4-s1-nlp",
   "language": "python",
   "display_name": "U4-S1-NLP (Python3)"
  },
  "language_info": {
   "codemirror_mode": {
    "name": "ipython",
    "version": 3
   },
   "file_extension": ".py",
   "mimetype": "text/x-python",
   "name": "python",
   "nbconvert_exporter": "python",
   "pygments_lexer": "ipython3",
   "version": "3.7.0"
  },
  "nteract": {
   "version": "0.14.3"
  }
 },
 "nbformat": 4,
 "nbformat_minor": 4
}